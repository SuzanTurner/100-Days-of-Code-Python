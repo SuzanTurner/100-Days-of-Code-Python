{
 "cells": [
  {
   "cell_type": "code",
   "execution_count": null,
   "id": "9cfad916-dee9-4bea-b648-fad160517fe9",
   "metadata": {},
   "outputs": [
    {
     "name": "stdout",
     "output_type": "stream",
     "text": [
      "           \n",
      "     ,adPPYba, ,adPPYYba,  ,adPPYba, ,adPPYba, ,adPPYYba, 8b,dPPYba,  \n",
      "    a8\"     \"\" \"\"     `Y8 a8P_____88 I8[    \"\" \"\"     `Y8 88P'   \"Y8  \n",
      "    8b         ,adPPPPP88 8PP\"  `\"Y8ba,  ,adPPPPP88 88          \n",
      "    \"8a,   ,aa 88,    ,88 \"8b,   ,aa aa    ]8I 88,    ,88 88          \n",
      "     `\"Ybbd8\"' `\"8bbdP\"Y8  `\"Ybbd8\"' `\"YbbdP\"' `\"8bbdP\"Y8 88   \n",
      "                88             88                                 \n",
      "               \"\"             88                                 \n",
      "                              88                                 \n",
      "     ,adPPYba, 88 8b,dPPYba,  88,dPPYba,   ,adPPYba, 8b,dPPYba,  \n",
      "    a8\"     \"\" 88 88P'    \"8a 88P'    \"8a a8P_____88 88P'   \"Y8  \n",
      "    8b         88 88       d8 88       88 8PP\" 88          \n",
      "    \"8a,   ,aa 88 88b,   ,a8\" 88       88 \"8b,   ,aa 88          \n",
      "     `\"Ybbd8\"' 88 88`YbbdP\"'  88       88  `\"Ybbd8\"' 88          \n",
      "                  88                                             \n",
      "                  88           \n",
      "    \n"
     ]
    },
    {
     "name": "stdin",
     "output_type": "stream",
     "text": [
      "Enter a word to encrypt or decrypt fsagg\n",
      "Enter the shift number 4\n",
      "Do you want to encode or decode? (encode/decode) encode\n"
     ]
    },
    {
     "name": "stdout",
     "output_type": "stream",
     "text": [
      "Encoding...\n",
      "\n",
      "Encrypted word: jwekk\n",
      "\n",
      "\n"
     ]
    },
    {
     "name": "stdin",
     "output_type": "stream",
     "text": [
      "Do you want to continue? (y/n) y\n"
     ]
    }
   ],
   "source": [
    "l()\n",
    "\n",
    "run = True\n",
    "while run:\n",
    "\n",
    "    word = input(\"Enter a word to encrypt or decrypt\").lower()\n",
    "    shift = int(input(\"Enter the shift number\"))\n",
    "    c = input(\"Do you want to encode or decode? (encode/decode)\").lower()\n",
    "    if (c == \"encode\"):\n",
    "        print(\"Encoding...\")\n",
    "        e = \"\"\n",
    "        ns = 0\n",
    "        for i, letter in enumerate (word):\n",
    "            if ((ord(letter)) + shift > 122):\n",
    "                ns = shift - (122 - ord(letter))\n",
    "                e += chr(96 + ns)\n",
    "            else:\n",
    "                e += chr(ord(letter) + shift)\n",
    "        \n",
    "        print(\"\\nEncrypted word: \"+e)\n",
    "        print(\"\\n\")\n",
    "    \n",
    "    else:\n",
    "        print(\"Decoding...\")\n",
    "        e = \"\"\n",
    "        ns = 0\n",
    "        for i, letter in enumerate (word):\n",
    "            if(ord(letter) - shift < 97):\n",
    "                ns = shift - (ord(letter) - 97)\n",
    "                e += chr(123 - ns)\n",
    "            else:\n",
    "                e += chr(ord(letter) - shift)\n",
    "    \n",
    "        print(\"\\nDecoded word is: \" + e)\n",
    "        print(\"\\n\")\n",
    "        \n",
    "    r = input(\"Do you want to continue? (y/n) \\n\").lower()\n",
    "    if ( r == 'y'):\n",
    "        continue\n",
    "    else:\n",
    "        break\n",
    "    \n"
   ]
  },
  {
   "cell_type": "code",
   "execution_count": 50,
   "id": "f144f17f-d786-4a15-98ae-e4e60861cdc5",
   "metadata": {},
   "outputs": [],
   "source": [
    "def l():\n",
    "\n",
    "    logo = \"\"\"           \n",
    "     ,adPPYba, ,adPPYYba,  ,adPPYba, ,adPPYba, ,adPPYYba, 8b,dPPYba,  \n",
    "    a8\"     \"\" \"\"     `Y8 a8P_____88 I8[    \"\" \"\"     `Y8 88P'   \"Y8  \n",
    "    8b         ,adPPPPP88 8PP\"\"\"\"\"\"\"  `\"Y8ba,  ,adPPPPP88 88          \n",
    "    \"8a,   ,aa 88,    ,88 \"8b,   ,aa aa    ]8I 88,    ,88 88          \n",
    "     `\"Ybbd8\"' `\"8bbdP\"Y8  `\"Ybbd8\"' `\"YbbdP\"' `\"8bbdP\"Y8 88   \n",
    "                88             88                                 \n",
    "               \"\"             88                                 \n",
    "                              88                                 \n",
    "     ,adPPYba, 88 8b,dPPYba,  88,dPPYba,   ,adPPYba, 8b,dPPYba,  \n",
    "    a8\"     \"\" 88 88P'    \"8a 88P'    \"8a a8P_____88 88P'   \"Y8  \n",
    "    8b         88 88       d8 88       88 8PP\"\"\"\"\"\"\" 88          \n",
    "    \"8a,   ,aa 88 88b,   ,a8\" 88       88 \"8b,   ,aa 88          \n",
    "     `\"Ybbd8\"' 88 88`YbbdP\"'  88       88  `\"Ybbd8\"' 88          \n",
    "                  88                                             \n",
    "                  88           \n",
    "    \"\"\"\n",
    "    print(logo)"
   ]
  },
  {
   "cell_type": "code",
   "execution_count": null,
   "id": "8cce6011-9498-4ec8-9ae7-4917be270c1c",
   "metadata": {},
   "outputs": [],
   "source": []
  },
  {
   "cell_type": "code",
   "execution_count": null,
   "id": "6d811e78-c676-4019-a68b-471aac3d6082",
   "metadata": {},
   "outputs": [],
   "source": []
  },
  {
   "cell_type": "code",
   "execution_count": null,
   "id": "eec2dff8-d197-4893-a13e-28316220ea46",
   "metadata": {},
   "outputs": [],
   "source": []
  }
 ],
 "metadata": {
  "kernelspec": {
   "display_name": "Python 3 (ipykernel)",
   "language": "python",
   "name": "python3"
  },
  "language_info": {
   "codemirror_mode": {
    "name": "ipython",
    "version": 3
   },
   "file_extension": ".py",
   "mimetype": "text/x-python",
   "name": "python",
   "nbconvert_exporter": "python",
   "pygments_lexer": "ipython3",
   "version": "3.11.9"
  }
 },
 "nbformat": 4,
 "nbformat_minor": 5
}
