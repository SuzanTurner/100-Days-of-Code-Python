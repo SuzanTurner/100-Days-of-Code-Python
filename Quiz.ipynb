{
 "cells": [
  {
   "cell_type": "code",
   "execution_count": 1,
   "id": "8a6fa13c-e1aa-44e5-bbf8-16369d7330ef",
   "metadata": {},
   "outputs": [],
   "source": [
    "\n",
    "data = [\n",
    "    {\"text\": \"In Switzerland, it is illegal to own just one guinea pig.\", \"answer\": \"True\"},\n",
    "    {\"text\": \"The Spanish national anthem has words.\", \"answer\": \"False\"},\n",
    "    {\"text\": \"The Mona Lisa has no eyebrows.\", \"answer\": \"True\"},\n",
    "    {\"text\": \"The inventor of the Pringles can is now buried in one.\", \"answer\": \"True\"},\n",
    "    {\"text\": \"Bananas are berries, but strawberries aren't.\", \"answer\": \"True\"},\n",
    "    {\"text\": \"There are more stars in the universe than grains of sand on Earth.\", \"answer\": \"True\"},\n",
    "    {\"text\": \"The unicorn is the national animal of Scotland.\", \"answer\": \"True\"},\n",
    "    {\"text\": \"The Great Wall of China is visible from space.\", \"answer\": \"False\"},\n",
    "    {\"text\": \"A crocodile cannot stick its tongue out.\", \"answer\": \"True\"},\n",
    "    {\"text\": \"The Twitter bird's official name is 'Larry'.\", \"answer\": \"True\"},\n",
    "    {\"text\": \"Goldfish only have a three-second memory.\", \"answer\": \"False\"},\n",
    "    {\"text\": \"A single strand of spaghetti is called a 'spaghetto'.\", \"answer\": \"True\"},\n",
    "    {\"text\": \"There are 100 dimples on a golf ball.\", \"answer\": \"False\"},\n",
    "    {\"text\": \"Dolphins sleep with one eye open.\", \"answer\": \"True\"},\n",
    "    {\"text\": \"The capital of Australia is Sydney.\", \"answer\": \"False\"},\n",
    "    {\"text\": \"Honey never spoils.\", \"answer\": \"True\"},\n",
    "    {\"text\": \"A jiffy is an actual unit of time.\", \"answer\": \"True\"},\n",
    "    {\"text\": \"Adults have fewer bones than babies.\", \"answer\": \"True\"},\n",
    "    {\"text\": \"Vatican City is the smallest country in the world.\", \"answer\": \"True\"},\n",
    "    {\"text\": \"Octopuses have three hearts.\", \"answer\": \"True\"},\n",
    "    {\"text\": \"Bats are blind.\", \"answer\": \"False\"},\n",
    "    {\"text\": \"Lightning never strikes the same place twice.\", \"answer\": \"False\"},\n",
    "    {\"text\": \"Humans share 50% of their DNA with bananas.\", \"answer\": \"True\"},\n",
    "    {\"text\": \"The Eiffel Tower can be 15 cm taller during the summer.\", \"answer\": \"True\"},\n",
    "    {\"text\": \"Venus is the hottest planet in the solar system.\", \"answer\": \"True\"},\n",
    "    {\"text\": \"Camels store water in their humps.\", \"answer\": \"False\"},\n",
    "    {\"text\": \"Polar bears have black skin.\", \"answer\": \"True\"},\n",
    "    {\"text\": \"Humans have more than five senses.\", \"answer\": \"True\"},\n",
    "    {\"text\": \"Coffee beans are actually seeds.\", \"answer\": \"True\"},\n",
    "    {\"text\": \"The first oranges weren’t orange.\", \"answer\": \"True\"},\n",
    "    {\"text\": \"You can sneeze in your sleep.\", \"answer\": \"False\"},\n",
    "    {\"text\": \"Penguins can fly.\", \"answer\": \"False\"},\n",
    "    {\"text\": \"Some cats are allergic to humans.\", \"answer\": \"True\"},\n",
    "    {\"text\": \"Bees can recognize human faces.\", \"answer\": \"True\"},\n",
    "    {\"text\": \"Tomatoes are vegetables.\", \"answer\": \"False\"},\n",
    "    {\"text\": \"Humans are the only animals that blush.\", \"answer\": \"True\"},\n",
    "    {\"text\": \"The shortest war in history lasted 38 minutes.\", \"answer\": \"True\"},\n",
    "    {\"text\": \"The speed of a computer mouse is measured in 'Mickeys'.\", \"answer\": \"True\"},\n",
    "    {\"text\": \"Sharks are mammals.\", \"answer\": \"False\"},\n",
    "    {\"text\": \"The longest hiccuping spree lasted 68 years.\", \"answer\": \"True\"},\n",
    "    {\"text\": \"The human nose can remember 50,000 different scents.\", \"answer\": \"True\"},\n",
    "    {\"text\": \"Butterflies taste with their feet.\", \"answer\": \"True\"},\n",
    "    {\"text\": \"The highest wave ever surfed was 100 feet.\", \"answer\": \"False\"},\n",
    "    {\"text\": \"Dogs can only see in black and white.\", \"answer\": \"False\"},\n",
    "    {\"text\": \"Jellyfish are made up of more than 95% water.\", \"answer\": \"True\"},\n",
    "    {\"text\": \"Pineapples grow on trees.\", \"answer\": \"False\"},\n",
    "    {\"text\": \"There are more fake flamingos in the world than real ones.\", \"answer\": \"True\"},\n",
    "    {\"text\": \"A group of flamingos is called a 'flamboyance'.\", \"answer\": \"True\"}\n",
    "]\n"
   ]
  },
  {
   "cell_type": "code",
   "execution_count": 2,
   "id": "3da0a7be-33c0-44af-abba-1485fc0bb5b0",
   "metadata": {},
   "outputs": [
    {
     "name": "stdout",
     "output_type": "stream",
     "text": [
      "48\n"
     ]
    }
   ],
   "source": [
    "print(len(data))"
   ]
  },
  {
   "cell_type": "code",
   "execution_count": 48,
   "id": "843afb10-ca55-46fb-81a3-497528a84bb1",
   "metadata": {},
   "outputs": [
    {
     "ename": "SyntaxError",
     "evalue": "name 'score' is parameter and global (2197367137.py, line 7)",
     "output_type": "error",
     "traceback": [
      "\u001b[1;36m  Cell \u001b[1;32mIn[48], line 7\u001b[1;36m\u001b[0m\n\u001b[1;33m    global score\u001b[0m\n\u001b[1;37m    ^\u001b[0m\n\u001b[1;31mSyntaxError\u001b[0m\u001b[1;31m:\u001b[0m name 'score' is parameter and global\n"
     ]
    }
   ],
   "source": [
    "class Question():\n",
    "    def __init__(self, text, answer):\n",
    "        self.text = text\n",
    "        self.answer = answer \n",
    "\n",
    "    def iscorrect(self, ans,a,score):\n",
    "        global score\n",
    "        if (a == ans):\n",
    "            print(\"Correct\")\n",
    "            score += 1\n",
    "            print(f\"Score is: {score}\\n\")\n",
    "            return 1\n",
    "        else:\n",
    "            print(\"Incorrect \\nGame Over\")\n",
    "            return 0\n",
    "\n",
    "        \n",
    "\n",
    "    \n",
    "       "
   ]
  },
  {
   "cell_type": "code",
   "execution_count": 47,
   "id": "81896dcc-d996-4c88-865d-dfaade435d8a",
   "metadata": {},
   "outputs": [
    {
     "name": "stdout",
     "output_type": "stream",
     "text": [
      "You can sneeze in your sleep.\n"
     ]
    },
    {
     "name": "stdin",
     "output_type": "stream",
     "text": [
      "(True/False) false\n"
     ]
    },
    {
     "name": "stdout",
     "output_type": "stream",
     "text": [
      "Correct\n",
      "Score is: 1\n",
      "\n",
      "Polar bears have black skin.\n"
     ]
    },
    {
     "name": "stdin",
     "output_type": "stream",
     "text": [
      "(True/False) true\n"
     ]
    },
    {
     "name": "stdout",
     "output_type": "stream",
     "text": [
      "Correct\n",
      "Score is: 1\n",
      "\n",
      "Venus is the hottest planet in the solar system.\n"
     ]
    },
    {
     "ename": "KeyboardInterrupt",
     "evalue": "Interrupted by user",
     "output_type": "error",
     "traceback": [
      "\u001b[1;31m---------------------------------------------------------------------------\u001b[0m",
      "\u001b[1;31mKeyboardInterrupt\u001b[0m                         Traceback (most recent call last)",
      "Cell \u001b[1;32mIn[47], line 8\u001b[0m\n\u001b[0;32m      6\u001b[0m ques \u001b[38;5;241m=\u001b[39m data[q][\u001b[38;5;124m\"\u001b[39m\u001b[38;5;124mtext\u001b[39m\u001b[38;5;124m\"\u001b[39m]\n\u001b[0;32m      7\u001b[0m \u001b[38;5;28mprint\u001b[39m(ques)\n\u001b[1;32m----> 8\u001b[0m ans \u001b[38;5;241m=\u001b[39m \u001b[38;5;28;43minput\u001b[39;49m\u001b[43m(\u001b[49m\u001b[38;5;124;43m\"\u001b[39;49m\u001b[38;5;124;43m(True/False)\u001b[39;49m\u001b[38;5;124;43m\"\u001b[39;49m\u001b[43m)\u001b[49m\u001b[38;5;241m.\u001b[39mlower()\n\u001b[0;32m      9\u001b[0m user \u001b[38;5;241m=\u001b[39m Question(ques,ans)\n\u001b[0;32m     10\u001b[0m a \u001b[38;5;241m=\u001b[39m (data[q][\u001b[38;5;124m\"\u001b[39m\u001b[38;5;124manswer\u001b[39m\u001b[38;5;124m\"\u001b[39m])\u001b[38;5;241m.\u001b[39mlower()\n",
      "File \u001b[1;32m~\\AppData\\Roaming\\Python\\Python311\\site-packages\\ipykernel\\kernelbase.py:1282\u001b[0m, in \u001b[0;36mKernel.raw_input\u001b[1;34m(self, prompt)\u001b[0m\n\u001b[0;32m   1280\u001b[0m     msg \u001b[38;5;241m=\u001b[39m \u001b[38;5;124m\"\u001b[39m\u001b[38;5;124mraw_input was called, but this frontend does not support input requests.\u001b[39m\u001b[38;5;124m\"\u001b[39m\n\u001b[0;32m   1281\u001b[0m     \u001b[38;5;28;01mraise\u001b[39;00m StdinNotImplementedError(msg)\n\u001b[1;32m-> 1282\u001b[0m \u001b[38;5;28;01mreturn\u001b[39;00m \u001b[38;5;28;43mself\u001b[39;49m\u001b[38;5;241;43m.\u001b[39;49m\u001b[43m_input_request\u001b[49m\u001b[43m(\u001b[49m\n\u001b[0;32m   1283\u001b[0m \u001b[43m    \u001b[49m\u001b[38;5;28;43mstr\u001b[39;49m\u001b[43m(\u001b[49m\u001b[43mprompt\u001b[49m\u001b[43m)\u001b[49m\u001b[43m,\u001b[49m\n\u001b[0;32m   1284\u001b[0m \u001b[43m    \u001b[49m\u001b[38;5;28;43mself\u001b[39;49m\u001b[38;5;241;43m.\u001b[39;49m\u001b[43m_parent_ident\u001b[49m\u001b[43m[\u001b[49m\u001b[38;5;124;43m\"\u001b[39;49m\u001b[38;5;124;43mshell\u001b[39;49m\u001b[38;5;124;43m\"\u001b[39;49m\u001b[43m]\u001b[49m\u001b[43m,\u001b[49m\n\u001b[0;32m   1285\u001b[0m \u001b[43m    \u001b[49m\u001b[38;5;28;43mself\u001b[39;49m\u001b[38;5;241;43m.\u001b[39;49m\u001b[43mget_parent\u001b[49m\u001b[43m(\u001b[49m\u001b[38;5;124;43m\"\u001b[39;49m\u001b[38;5;124;43mshell\u001b[39;49m\u001b[38;5;124;43m\"\u001b[39;49m\u001b[43m)\u001b[49m\u001b[43m,\u001b[49m\n\u001b[0;32m   1286\u001b[0m \u001b[43m    \u001b[49m\u001b[43mpassword\u001b[49m\u001b[38;5;241;43m=\u001b[39;49m\u001b[38;5;28;43;01mFalse\u001b[39;49;00m\u001b[43m,\u001b[49m\n\u001b[0;32m   1287\u001b[0m \u001b[43m\u001b[49m\u001b[43m)\u001b[49m\n",
      "File \u001b[1;32m~\\AppData\\Roaming\\Python\\Python311\\site-packages\\ipykernel\\kernelbase.py:1325\u001b[0m, in \u001b[0;36mKernel._input_request\u001b[1;34m(self, prompt, ident, parent, password)\u001b[0m\n\u001b[0;32m   1322\u001b[0m \u001b[38;5;28;01mexcept\u001b[39;00m \u001b[38;5;167;01mKeyboardInterrupt\u001b[39;00m:\n\u001b[0;32m   1323\u001b[0m     \u001b[38;5;66;03m# re-raise KeyboardInterrupt, to truncate traceback\u001b[39;00m\n\u001b[0;32m   1324\u001b[0m     msg \u001b[38;5;241m=\u001b[39m \u001b[38;5;124m\"\u001b[39m\u001b[38;5;124mInterrupted by user\u001b[39m\u001b[38;5;124m\"\u001b[39m\n\u001b[1;32m-> 1325\u001b[0m     \u001b[38;5;28;01mraise\u001b[39;00m \u001b[38;5;167;01mKeyboardInterrupt\u001b[39;00m(msg) \u001b[38;5;28;01mfrom\u001b[39;00m \u001b[38;5;28;01mNone\u001b[39;00m\n\u001b[0;32m   1326\u001b[0m \u001b[38;5;28;01mexcept\u001b[39;00m \u001b[38;5;167;01mException\u001b[39;00m:\n\u001b[0;32m   1327\u001b[0m     \u001b[38;5;28mself\u001b[39m\u001b[38;5;241m.\u001b[39mlog\u001b[38;5;241m.\u001b[39mwarning(\u001b[38;5;124m\"\u001b[39m\u001b[38;5;124mInvalid Message:\u001b[39m\u001b[38;5;124m\"\u001b[39m, exc_info\u001b[38;5;241m=\u001b[39m\u001b[38;5;28;01mTrue\u001b[39;00m)\n",
      "\u001b[1;31mKeyboardInterrupt\u001b[0m: Interrupted by user"
     ]
    }
   ],
   "source": [
    "import random\n",
    "\n",
    "score = 0\n",
    "while True:\n",
    "    q = random.randint(0,47)\n",
    "    ques = data[q][\"text\"]\n",
    "    print(ques)\n",
    "    ans = input(\"(True/False)\").lower()\n",
    "    user = Question(ques,ans)\n",
    "    a = (data[q][\"answer\"]).lower()\n",
    "    c = user.iscorrect(ans,a,score)\n",
    "    \n",
    "    if (c == 1):\n",
    "        continue\n",
    "    else:\n",
    "        break\n",
    "    \n",
    "    \n",
    "\n",
    "\n",
    "\n"
   ]
  },
  {
   "cell_type": "code",
   "execution_count": null,
   "id": "f3af30b4-81a8-42a5-ac63-6de80c7e0d42",
   "metadata": {},
   "outputs": [],
   "source": []
  },
  {
   "cell_type": "code",
   "execution_count": null,
   "id": "c7b2e90a-0006-4cc5-ab00-18aa9910594a",
   "metadata": {},
   "outputs": [],
   "source": []
  },
  {
   "cell_type": "code",
   "execution_count": null,
   "id": "9161ab7d-3d22-48d8-8370-9b51dd837a5b",
   "metadata": {},
   "outputs": [],
   "source": []
  }
 ],
 "metadata": {
  "kernelspec": {
   "display_name": "Python 3 (ipykernel)",
   "language": "python",
   "name": "python3"
  },
  "language_info": {
   "codemirror_mode": {
    "name": "ipython",
    "version": 3
   },
   "file_extension": ".py",
   "mimetype": "text/x-python",
   "name": "python",
   "nbconvert_exporter": "python",
   "pygments_lexer": "ipython3",
   "version": "3.11.9"
  }
 },
 "nbformat": 4,
 "nbformat_minor": 5
}
