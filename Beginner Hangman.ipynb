{
 "cells": [
  {
   "cell_type": "code",
   "execution_count": 45,
   "id": "6b0360f8-2af6-44a9-a22a-1103e222f1e7",
   "metadata": {},
   "outputs": [],
   "source": [
    "logo = ''' \n",
    " _                                             \n",
    "| |                                            \n",
    "| |__   __ _ _ __   __ _ _ __ ___   __ _ _ __  \n",
    "| '_ \\ / _` | '_ \\ / _` | '_ ` _ \\ / _` | '_ \\ \n",
    "| | | | (_| | | | | (_| | | | | | | (_| | | | |\n",
    "|_| |_|\\__,_|_| |_|\\__, |_| |_| |_|\\__,_|_| |_|\n",
    "                    __/ |                      \n",
    "                   |___/    '''"
   ]
  },
  {
   "cell_type": "code",
   "execution_count": null,
   "id": "d4ce3191-b0a2-49ca-b305-b1233dce772e",
   "metadata": {},
   "outputs": [
    {
     "name": "stdout",
     "output_type": "stream",
     "text": [
      " \n",
      " _                                             \n",
      "| |                                            \n",
      "| |__   __ _ _ __   __ _ _ __ ___   __ _ _ __  \n",
      "| '_ \\ / _` | '_ \\ / _` | '_ ` _ \\ / _` | '_ \\ \n",
      "| | | | (_| | | | | (_| | | | | | | (_| | | | |\n",
      "|_| |_|\\__,_|_| |_|\\__, |_| |_| |_|\\__,_|_| |_|\n",
      "                    __/ |                      \n",
      "                   |___/    \n",
      "YOU HAVE 7 LIVES!! \n",
      "NO HINTS AVAILABLE\n",
      "['_', '_', '_', '_', '_', '_', '_', '_']\n"
     ]
    },
    {
     "name": "stdin",
     "output_type": "stream",
     "text": [
      "Guess a letter:  e\n"
     ]
    },
    {
     "name": "stdout",
     "output_type": "stream",
     "text": [
      "You guessed correctly\n",
      "['_', 'E', '_', '_', '_', 'E', 'E', '_']\n",
      "\n",
      "\n"
     ]
    },
    {
     "name": "stdin",
     "output_type": "stream",
     "text": [
      "Guess a letter:  b\n"
     ]
    },
    {
     "name": "stdout",
     "output_type": "stream",
     "text": [
      "You guessed correctly\n",
      "['B', 'E', '_', '_', '_', 'E', 'E', '_']\n",
      "\n",
      "\n"
     ]
    }
   ],
   "source": [
    "import random\n",
    "\n",
    "words = [\"BLANKET\", \"GUITAR\", \"ADITYA\", \"DUMMY\", \"BOTTLE\", \"CHAIR\", \"BEDSHEET\", \"MIRROR\", \"INDIA\"]\n",
    "\n",
    "w = random.choice(words)\n",
    "print(logo)\n",
    "print(\"YOU HAVE 7 LIVES!! \\nNO HINTS AVAILABLE\")\n",
    "\n",
    "display = []\n",
    "for i in range(0,len(w)):\n",
    "    display += \"_\"\n",
    "\n",
    "print(display)\n",
    "\n",
    "s = 6\n",
    "\n",
    "while \"_\" in display and s >= 0:\n",
    "    guess = input(\"Guess a letter: \").upper()\n",
    "    if guess in w:\n",
    "        for index, letter in enumerate(w):\n",
    "            if letter == guess:\n",
    "                display[index] = guess\n",
    "        print(\"You guessed correctly\")\n",
    "    else:\n",
    "        print(\"You lost one life\")\n",
    "        print(stages[s])\n",
    "        s -= 1\n",
    "\n",
    "    print(display)\n",
    "    print(\"\\n\")\n",
    "\n",
    "if ('_' not in display):\n",
    "    print(\"You Won!!\")\n",
    "else:\n",
    "    print(\"Game Over\")\n",
    "\n",
    "        \n",
    "\n",
    "\n",
    "    "
   ]
  },
  {
   "cell_type": "code",
   "execution_count": 21,
   "id": "57cf6118-0728-4fac-87bc-deca83dd73a5",
   "metadata": {},
   "outputs": [],
   "source": [
    "stages = ['''\n",
    "  +---+\n",
    "  |   |\n",
    "  O   |\n",
    " /|\\  |\n",
    " / \\  |\n",
    "      |\n",
    "=========\n",
    "''', '''\n",
    "  +---+\n",
    "  |   |\n",
    "  O   |\n",
    " /|\\  |\n",
    " /    |\n",
    "      |\n",
    "=========\n",
    "''', '''\n",
    "  +---+\n",
    "  |   |\n",
    "  O   |\n",
    " /|\\  |\n",
    "      |\n",
    "      |\n",
    "=========\n",
    "''', '''\n",
    "  +---+\n",
    "  |   |\n",
    "  O   |\n",
    " /|   |\n",
    "      |\n",
    "      |\n",
    "=========''', '''\n",
    "  +---+\n",
    "  |   |\n",
    "  O   |\n",
    "  |   |\n",
    "      |\n",
    "      |\n",
    "=========\n",
    "''', '''\n",
    "  +---+\n",
    "  |   |\n",
    "  O   |\n",
    "      |\n",
    "      |\n",
    "      |\n",
    "=========\n",
    "''', '''\n",
    "  +---+\n",
    "  |   |\n",
    "      |\n",
    "      |\n",
    "      |\n",
    "      |\n",
    "=========\n",
    "''']"
   ]
  },
  {
   "cell_type": "code",
   "execution_count": null,
   "id": "d8cba7b3-1089-44f8-87d3-bc33ffe23221",
   "metadata": {},
   "outputs": [],
   "source": []
  }
 ],
 "metadata": {
  "kernelspec": {
   "display_name": "Python 3 (ipykernel)",
   "language": "python",
   "name": "python3"
  },
  "language_info": {
   "codemirror_mode": {
    "name": "ipython",
    "version": 3
   },
   "file_extension": ".py",
   "mimetype": "text/x-python",
   "name": "python",
   "nbconvert_exporter": "python",
   "pygments_lexer": "ipython3",
   "version": "3.11.9"
  }
 },
 "nbformat": 4,
 "nbformat_minor": 5
}
