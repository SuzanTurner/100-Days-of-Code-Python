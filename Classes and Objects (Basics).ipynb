{
 "cells": [
  {
   "cell_type": "code",
   "execution_count": 1,
   "id": "1e67fa9f-129d-4330-806a-42d91f8a1fc6",
   "metadata": {},
   "outputs": [
    {
     "name": "stdout",
     "output_type": "stream",
     "text": [
      "Defaulting to user installation because normal site-packages is not writeable\n",
      "Collecting prettytable\n",
      "  Downloading prettytable-3.10.2-py3-none-any.whl.metadata (30 kB)\n",
      "Requirement already satisfied: wcwidth in c:\\users\\yadhnesh\\appdata\\roaming\\python\\python311\\site-packages (from prettytable) (0.2.13)\n",
      "Downloading prettytable-3.10.2-py3-none-any.whl (28 kB)\n",
      "Installing collected packages: prettytable\n",
      "Successfully installed prettytable-3.10.2\n"
     ]
    }
   ],
   "source": [
    "!pip install prettytable"
   ]
  },
  {
   "cell_type": "code",
   "execution_count": 2,
   "id": "079a764b-ba56-46d0-ae4e-022af35e799b",
   "metadata": {},
   "outputs": [],
   "source": [
    "from prettytable import PrettyTable\n",
    "table = PrettyTable()"
   ]
  },
  {
   "cell_type": "code",
   "execution_count": 3,
   "id": "05a0c841-03c5-477a-a156-a52e4505c339",
   "metadata": {},
   "outputs": [
    {
     "name": "stdout",
     "output_type": "stream",
     "text": [
      "++\n",
      "||\n",
      "++\n",
      "++\n"
     ]
    }
   ],
   "source": [
    "print(table)"
   ]
  },
  {
   "cell_type": "code",
   "execution_count": 6,
   "id": "241c3235-78e7-46c1-b842-0a888917c97d",
   "metadata": {},
   "outputs": [],
   "source": [
    "table.add_column(\"Pokemon Names\", [\"Pikachu\", \"Squirtle\", \"Psyduck\"])\n",
    "table.add_column(\"Type\", [\"Electric\", \"Water\", \"Psycic\"])"
   ]
  },
  {
   "cell_type": "code",
   "execution_count": 7,
   "id": "b400cf43-79ac-4ff3-8db4-742b65af5d9f",
   "metadata": {},
   "outputs": [
    {
     "name": "stdout",
     "output_type": "stream",
     "text": [
      "+---------------+----------+\n",
      "| Pokemon Names |   Type   |\n",
      "+---------------+----------+\n",
      "|    Pikachu    | Electric |\n",
      "|    Squirtle   |  Water   |\n",
      "|    Psyduck    |  Psycic  |\n",
      "+---------------+----------+\n"
     ]
    }
   ],
   "source": [
    "print(table)"
   ]
  },
  {
   "cell_type": "code",
   "execution_count": 9,
   "id": "cbce1ee1-9c54-4949-b574-a054b4c48f16",
   "metadata": {},
   "outputs": [],
   "source": [
    "table.align = \"l\""
   ]
  },
  {
   "cell_type": "code",
   "execution_count": 10,
   "id": "4921e8d0-d18c-438e-b88b-78f46a040ebd",
   "metadata": {},
   "outputs": [
    {
     "name": "stdout",
     "output_type": "stream",
     "text": [
      "+---------------+----------+\n",
      "| Pokemon Names | Type     |\n",
      "+---------------+----------+\n",
      "| Pikachu       | Electric |\n",
      "| Squirtle      | Water    |\n",
      "| Psyduck       | Psycic   |\n",
      "+---------------+----------+\n"
     ]
    }
   ],
   "source": [
    "print(table)"
   ]
  },
  {
   "cell_type": "code",
   "execution_count": 2,
   "id": "981cd5d0-f616-4259-9b56-ca2540fcb709",
   "metadata": {},
   "outputs": [],
   "source": [
    "class User:\n",
    "    def __init__(self, id, name):\n",
    "        self.id = id\n",
    "        self.name = name\n",
    "        "
   ]
  },
  {
   "cell_type": "code",
   "execution_count": 6,
   "id": "411eeef8-f813-40c5-8b15-c1441bf4a6db",
   "metadata": {},
   "outputs": [
    {
     "name": "stdout",
     "output_type": "stream",
     "text": [
      "456\n",
      "Yadh\n"
     ]
    }
   ],
   "source": [
    "user = User(\"456\", \"Yadh\")\n",
    "print(user.id)\n",
    "print(user.name)"
   ]
  },
  {
   "cell_type": "markdown",
   "id": "8e730e51-1b3d-413e-b5d6-8907970d085d",
   "metadata": {},
   "source": [
    "#### Followers and following"
   ]
  },
  {
   "cell_type": "code",
   "execution_count": 22,
   "id": "c9a77506-00c3-483a-9d53-848274c5daa0",
   "metadata": {},
   "outputs": [
    {
     "name": "stdout",
     "output_type": "stream",
     "text": [
      "0\n",
      "1\n",
      "1\n",
      "0\n"
     ]
    }
   ],
   "source": [
    "class User:\n",
    "    def __init__(self, name):\n",
    "        self.name = name\n",
    "        self.followers = 0\n",
    "        self.following = 0\n",
    "\n",
    "    def follow(self, r):\n",
    "        user1.following += 1\n",
    "        user2.followers += 1\n",
    "\n",
    "user1 = User(\"Yadh\")\n",
    "user2 = User(\"Adi\")\n",
    "user1.follow(user2)\n",
    "print(user1.followers)\n",
    "print(user1.following)\n",
    "print(user2.followers)\n",
    "print(user2.following)\n",
    "        \n",
    "\n",
    "    "
   ]
  },
  {
   "cell_type": "code",
   "execution_count": null,
   "id": "9d01f919-822d-4343-ab03-8ad098893da2",
   "metadata": {},
   "outputs": [],
   "source": []
  },
  {
   "cell_type": "code",
   "execution_count": null,
   "id": "6aaf0112-059c-40ca-a8ea-2ad4609600bc",
   "metadata": {},
   "outputs": [],
   "source": []
  }
 ],
 "metadata": {
  "kernelspec": {
   "display_name": "Python 3 (ipykernel)",
   "language": "python",
   "name": "python3"
  },
  "language_info": {
   "codemirror_mode": {
    "name": "ipython",
    "version": 3
   },
   "file_extension": ".py",
   "mimetype": "text/x-python",
   "name": "python",
   "nbconvert_exporter": "python",
   "pygments_lexer": "ipython3",
   "version": "3.11.9"
  }
 },
 "nbformat": 4,
 "nbformat_minor": 5
}
