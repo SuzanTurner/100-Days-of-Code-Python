{
 "cells": [
  {
   "cell_type": "code",
   "execution_count": 1,
   "id": "5636d378-d0f0-45fa-902e-ecc0df714ad2",
   "metadata": {},
   "outputs": [],
   "source": [
    "import random\n",
    "from IPython.display import clear_output\n",
    "import time"
   ]
  },
  {
   "cell_type": "code",
   "execution_count": 7,
   "id": "7854f667-4dca-4d06-ad36-4966634670dc",
   "metadata": {},
   "outputs": [
    {
     "name": "stdout",
     "output_type": "stream",
     "text": [
      "Welcome to BlackJack\n",
      "The user or the computer must try to score 21 or nearest\n",
      "Your cards are: [[10, 10]]\n",
      "Computers cards are: [10]\n"
     ]
    },
    {
     "name": "stdin",
     "output_type": "stream",
     "text": [
      "Do you want to take risk and choose another? (y/n) y\n"
     ]
    },
    {
     "name": "stdout",
     "output_type": "stream",
     "text": [
      "None\n"
     ]
    },
    {
     "ename": "TypeError",
     "evalue": "unsupported operand type(s) for +: 'int' and 'list'",
     "output_type": "error",
     "traceback": [
      "\u001b[1;31m---------------------------------------------------------------------------\u001b[0m",
      "\u001b[1;31mTypeError\u001b[0m                                 Traceback (most recent call last)",
      "Cell \u001b[1;32mIn[7], line 17\u001b[0m\n\u001b[0;32m     14\u001b[0m \u001b[38;5;28mprint\u001b[39m(u\u001b[38;5;241m.\u001b[39mappend(uc))\n\u001b[0;32m     15\u001b[0m c\u001b[38;5;241m.\u001b[39mappend(random\u001b[38;5;241m.\u001b[39msample(numbers, \u001b[38;5;241m2\u001b[39m))\n\u001b[1;32m---> 17\u001b[0m \u001b[38;5;28;01mif\u001b[39;00m (\u001b[38;5;28;43msum\u001b[39;49m\u001b[43m(\u001b[49m\u001b[43mu\u001b[49m\u001b[43m)\u001b[49m \u001b[38;5;241m>\u001b[39m \u001b[38;5;241m21\u001b[39m):\n\u001b[0;32m     18\u001b[0m     \u001b[38;5;28mprint\u001b[39m(\u001b[38;5;124mf\u001b[39m\u001b[38;5;124m\"\u001b[39m\u001b[38;5;124mYour total is \u001b[39m\u001b[38;5;132;01m{\u001b[39;00m\u001b[38;5;28msum\u001b[39m(u)\u001b[38;5;132;01m}\u001b[39;00m\u001b[38;5;124m \u001b[39m\u001b[38;5;130;01m\\n\u001b[39;00m\u001b[38;5;124mYou lose\u001b[39m\u001b[38;5;124m\"\u001b[39m)\n\u001b[0;32m     19\u001b[0m \u001b[38;5;28;01melif\u001b[39;00m (\u001b[38;5;28msum\u001b[39m(u) \u001b[38;5;241m>\u001b[39m \u001b[38;5;28msum\u001b[39m(c)):\n",
      "\u001b[1;31mTypeError\u001b[0m: unsupported operand type(s) for +: 'int' and 'list'"
     ]
    }
   ],
   "source": [
    "print(\"Welcome to BlackJack\")\n",
    "print(\"The user or the computer must try to score 21 or nearest\")\n",
    "u = []\n",
    "c = []\n",
    "numbers = [1,2,3,4,5,6,7,8,9,10,10,10,10]\n",
    "while True:\n",
    "    u.append(random.sample(numbers,2))\n",
    "    print(\"Your cards are:\", u)\n",
    "    c.append(random.choice(numbers))\n",
    "    print(\"Computers cards are:\", c)\n",
    "    r = input(\"Do you want to take risk and choose another? (y/n)\")\n",
    "    if r == 'y':\n",
    "        uc = random.choice(numbers)\n",
    "        print(\"Your cards are:\", u.append(uc))\n",
    "        c.append(random.sample(numbers, 2))\n",
    "        \n",
    "        if (sum(u) > 21):\n",
    "            print(f\"Your total is {sum(u)} \\nYou lose\")\n",
    "        elif (sum(u) > sum(c)):\n",
    "            print(f\"Your total is {sum(u)} \\nComputer's total is: {sum(c)} \\nYou win!!\")\n",
    "        else:\n",
    "            print(f\"Your total is {sum(u)} \\nComputer's total is: {sum(c)} \\nYou Lose!!\")\n",
    "\n",
    "    else:\n",
    "        if (sum(u) > 21):\n",
    "            print(f\"Your total is {sum(u)} \\nYou lose\")\n",
    "        elif (sum(u) > sum(c)):\n",
    "            print(f\"Your total is {sum(u)} \\nComputer's total is: {sum(c)} \\nYou win!!\")\n",
    "        else:\n",
    "            print(f\"Your total is {sum(u)} \\nComputer's total is: {sum(c)} \\nYou Lose!!\")\n",
    "    g = input(\"Wanna play again? (y/n)\")\n",
    "    if g == 'y':\n",
    "        clear_output(wait = True)\n",
    "        time.sleep(1)\n",
    "        continue\n",
    "    else:\n",
    "        break\n",
    "        \n",
    "\n",
    "\n",
    "    "
   ]
  },
  {
   "cell_type": "code",
   "execution_count": null,
   "id": "dd1fce71-a6c9-49ae-8f94-ef4ae8ae8aa7",
   "metadata": {},
   "outputs": [],
   "source": []
  },
  {
   "cell_type": "code",
   "execution_count": 11,
   "id": "e429f249-525e-47c7-bf3c-fcc46189e63c",
   "metadata": {},
   "outputs": [
    {
     "name": "stdout",
     "output_type": "stream",
     "text": [
      "10\n"
     ]
    }
   ],
   "source": [
    "n = [1,2,3]\n",
    "f = (sum(n) + 4)\n",
    "print(f)"
   ]
  },
  {
   "cell_type": "code",
   "execution_count": null,
   "id": "11315363-d1c9-4824-bf78-1fa062cb17ea",
   "metadata": {},
   "outputs": [],
   "source": []
  }
 ],
 "metadata": {
  "kernelspec": {
   "display_name": "Python 3 (ipykernel)",
   "language": "python",
   "name": "python3"
  },
  "language_info": {
   "codemirror_mode": {
    "name": "ipython",
    "version": 3
   },
   "file_extension": ".py",
   "mimetype": "text/x-python",
   "name": "python",
   "nbconvert_exporter": "python",
   "pygments_lexer": "ipython3",
   "version": "3.11.9"
  }
 },
 "nbformat": 4,
 "nbformat_minor": 5
}
