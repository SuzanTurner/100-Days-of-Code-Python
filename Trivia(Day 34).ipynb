{
 "cells": [
  {
   "cell_type": "code",
   "execution_count": 1,
   "id": "15b24ef6-6c69-498f-bab4-ac9b65979826",
   "metadata": {},
   "outputs": [],
   "source": [
    "import requests\n"
   ]
  },
  {
   "cell_type": "code",
   "execution_count": 108,
   "id": "1f33ef06-af85-4e26-9589-1b39fc04514c",
   "metadata": {},
   "outputs": [],
   "source": [
    "resp = requests.get(url = \"https://opentdb.com/api.php?amount=50&type=boolean\")\n",
    "resp.raise_for_status()"
   ]
  },
  {
   "cell_type": "code",
   "execution_count": 135,
   "id": "d7394309-119f-4fae-9f29-f08be22179ae",
   "metadata": {},
   "outputs": [],
   "source": [
    "data = resp.json()\n"
   ]
  },
  {
   "cell_type": "code",
   "execution_count": 136,
   "id": "b2be70e8-9789-47ab-9954-0e31849f4dbc",
   "metadata": {},
   "outputs": [],
   "source": [
    "import tkinter\n",
    "from PIL import Image,ImageTk\n",
    "import textwrap\n",
    "import random\n",
    "import html\n",
    "\n",
    "THEME_COLOR = \"#375362\"\n"
   ]
  },
  {
   "cell_type": "code",
   "execution_count": null,
   "id": "ac02e2e6-824e-4f32-b5d6-d5f79c1c549c",
   "metadata": {},
   "outputs": [],
   "source": [
    "window = tkinter.Tk()\n",
    "window.minsize(width = 400, height = 400)\n",
    "window.title(\"Trivia\")\n",
    "window.config(bg = THEME_COLOR, padx = 10, pady = 10)\n",
    "\n",
    "score = 0\n",
    "\n",
    "score_label = tkinter.Label()\n",
    "score_label.config(text = f\"Score:{score}\", width = 10, bg = THEME_COLOR, fg = \"white\", font = (\"Georgia\", 15, \"normal\"))\n",
    "score_label.grid(column = 1, row = 3, columnspan = 2)\n",
    "\n",
    "def wrap_text(text, width):\n",
    "    return textwrap.fill(text, width = width)\n",
    "\n",
    "image = Image.open(r\"D:\\Yadh Documents\\100 Days of Code Python\\RR.jpeg\")\n",
    "photo = ImageTk.PhotoImage(image)\n",
    "\n",
    "\n",
    "canvas = tkinter.Canvas()\n",
    "canvas.create_image(100,100, image = photo)\n",
    "canvas.grid(column = 1, row = 1, columnspan = 2)\n",
    "ques = data[\"results\"][0][\"question\"]\n",
    "wrapped_text = wrap_text(ques, 25)\n",
    "question = canvas.create_text(190, 100,text = f\"{html.unescape(wrapped_text)}\", fill = \"white\", font = (\"Comic Sans MS\", 16, \"normal\"))\n",
    "\n",
    "i = random.randint(0,49)\n",
    "def random_question():\n",
    "    global i\n",
    "    i = random.randint(0,49)\n",
    "    return i\n",
    "    \n",
    "def check_true():\n",
    "    global score\n",
    "    global question\n",
    "    global i\n",
    "    ans = data[\"results\"][i][\"correct_answer\"]\n",
    "    if ans == \"True\":\n",
    "        canvas.delete(question)\n",
    "        score +=1\n",
    "        score_label.config(text = f\"Score: {score}\")\n",
    "        ques = data[\"results\"][random_question()][\"question\"]\n",
    "        wrapped_text = wrap_text(ques, 25)\n",
    "        question = canvas.create_text(190, 100,text = f\"{html.unescape(wrapped_text)}\", fill = \"white\", font = (\"Comic Sans MS\", 16, \"normal\"))\n",
    "    else:\n",
    "        canvas.delete(question)\n",
    "        ques = data[\"results\"][random_question()][\"question\"]\n",
    "        wrapped_text = wrap_text(ques, 25)\n",
    "        question = canvas.create_text(190, 100,text = f\"{html.unescape(wrapped_text)}\", fill = \"white\", font = (\"Comic Sans MS\", 16, \"normal\"))\n",
    "\n",
    "def check_false():\n",
    "    global score\n",
    "    global question\n",
    "    ans = data[\"results\"][i][\"correct_answer\"]\n",
    "    if ans == \"False\":\n",
    "        canvas.delete(question)\n",
    "        score +=1\n",
    "        score_label.config(text = f\"Score: {score}\")\n",
    "        ques = data[\"results\"][random_question()][\"question\"]\n",
    "        wrapped_text = wrap_text(ques, 25)\n",
    "        question = canvas.create_text(190, 100,text = f\"{html.unescape(wrapped_text)}\", fill = \"white\", font = (\"Comic Sans MS\", 16, \"normal\"))\n",
    "    else:\n",
    "        canvas.delete(question)\n",
    "        ques = data[\"results\"][random_question()][\"question\"]\n",
    "        wrapped_text = wrap_text(ques, 25)\n",
    "        question = canvas.create_text(190, 100,text = f\"{html.unescape(wrapped_text)}\", fill = \"white\", font = (\"Comic Sans MS\", 16, \"normal\"))\n",
    "\n",
    "true_img = tkinter.PhotoImage(file = r\"D:\\Yadh Documents\\100 Days of Code Python\\quizzler-app-start\\images\\true.png\")\n",
    "true_button = tkinter.Button(image = true_img, command = check_true)\n",
    "true_button.grid(column = 1, row = 2, padx = 50, pady = 10)\n",
    "\n",
    "false_img = tkinter.PhotoImage(file = r\"D:\\Yadh Documents\\100 Days of Code Python\\quizzler-app-start\\images\\false.png\")\n",
    "false_button = tkinter.Button(image = false_img, command = check_false)\n",
    "false_button.grid(column = 2, row = 2, padx = 10, pady= 10)\n",
    "\n",
    "\n",
    "window.mainloop()"
   ]
  },
  {
   "cell_type": "code",
   "execution_count": null,
   "id": "7a840742-33c4-45ca-83b0-cf8c7f41a851",
   "metadata": {},
   "outputs": [],
   "source": []
  },
  {
   "cell_type": "code",
   "execution_count": null,
   "id": "c3f1065c-0b43-467c-b597-8ef7aeab25e1",
   "metadata": {},
   "outputs": [],
   "source": []
  },
  {
   "cell_type": "code",
   "execution_count": null,
   "id": "5a5a73a2-bd26-49f1-bdd3-0d4be8c5f018",
   "metadata": {},
   "outputs": [],
   "source": []
  }
 ],
 "metadata": {
  "kernelspec": {
   "display_name": "Python 3 (ipykernel)",
   "language": "python",
   "name": "python3"
  },
  "language_info": {
   "codemirror_mode": {
    "name": "ipython",
    "version": 3
   },
   "file_extension": ".py",
   "mimetype": "text/x-python",
   "name": "python",
   "nbconvert_exporter": "python",
   "pygments_lexer": "ipython3",
   "version": "3.11.9"
  }
 },
 "nbformat": 4,
 "nbformat_minor": 5
}
