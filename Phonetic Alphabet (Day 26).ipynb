{
 "cells": [
  {
   "cell_type": "code",
   "execution_count": 1,
   "id": "4a6945ae-b9cd-4dd1-94dd-c202d4b9c13d",
   "metadata": {},
   "outputs": [],
   "source": [
    "import pandas\n"
   ]
  },
  {
   "cell_type": "code",
   "execution_count": 2,
   "id": "9bbe31d9-33b0-440a-9788-41cef33fd960",
   "metadata": {},
   "outputs": [],
   "source": [
    "data = pandas.read_csv(r\"D:\\Yadh Documents\\100 Days of Code Python\\Alphabet.csv\")"
   ]
  },
  {
   "cell_type": "code",
   "execution_count": 11,
   "id": "752910b5-a674-49f4-9900-470be123c0af",
   "metadata": {},
   "outputs": [
    {
     "name": "stdin",
     "output_type": "stream",
     "text": [
      "Enter your name yadh\n"
     ]
    },
    {
     "name": "stdout",
     "output_type": "stream",
     "text": [
      "['A', 'B', 'C', 'D', 'E', 'F', 'G', 'H', 'I', 'J', 'K', 'L', 'M', 'N', 'O', 'P', 'Q', 'R', 'S', 'T', 'U', 'V', 'W', 'X', 'Y', 'Z']\n",
      "A\n",
      "0\n",
      "B\n",
      "1\n",
      "C\n",
      "2\n",
      "D\n",
      "3\n"
     ]
    }
   ],
   "source": [
    "name = input(\"Enter your name\")\n",
    "l = data.letter.to_list()\n",
    "c = data.code.to_list()\n",
    "\n",
    "print(l)\n",
    "\n",
    "for letter in name:\n",
    "    if letter.upper() in l:\n",
    "        i = l.index(letter)\n",
    "        \n",
    "        \n",
    "        "
   ]
  },
  {
   "cell_type": "code",
   "execution_count": null,
   "id": "27a2684d-a7ac-43b7-9fae-bf08df3fc396",
   "metadata": {},
   "outputs": [],
   "source": []
  }
 ],
 "metadata": {
  "kernelspec": {
   "display_name": "Python 3 (ipykernel)",
   "language": "python",
   "name": "python3"
  },
  "language_info": {
   "codemirror_mode": {
    "name": "ipython",
    "version": 3
   },
   "file_extension": ".py",
   "mimetype": "text/x-python",
   "name": "python",
   "nbconvert_exporter": "python",
   "pygments_lexer": "ipython3",
   "version": "3.11.9"
  }
 },
 "nbformat": 4,
 "nbformat_minor": 5
}
