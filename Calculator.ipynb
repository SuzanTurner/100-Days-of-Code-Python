{
 "cells": [
  {
   "cell_type": "code",
   "execution_count": 32,
   "id": "c3f89a46-1010-4524-bc64-eadb713771eb",
   "metadata": {},
   "outputs": [],
   "source": [
    "logo = \"\"\"\n",
    " _____________________\n",
    "|  _________________  |\n",
    "| | Pythonista   0. | |  .----------------.  .----------------.  .----------------.  .----------------. \n",
    "| |_________________| | | .--------------. || .--------------. || .--------------. || .--------------. |\n",
    "|  ___ ___ ___   ___  | | |     ______   | || |      __      | || |   _____      | || |     ______   | |\n",
    "| | 7 | 8 | 9 | | + | | | |   .' ___  |  | || |     /  \\     | || |  |_   _|     | || |   .' ___  |  | |\n",
    "| |___|___|___| |___| | | |  / .'   \\_|  | || |    / /\\ \\    | || |    | |       | || |  / .'   \\_|  | |\n",
    "| | 4 | 5 | 6 | | - | | | |  | |         | || |   / ____ \\   | || |    | |   _   | || |  | |         | |\n",
    "| |___|___|___| |___| | | |  \\ `.___.'\\  | || | _/ /    \\ \\_ | || |   _| |__/ |  | || |  \\ `.___.'\\  | |\n",
    "| | 1 | 2 | 3 | | x | | | |   `._____.'  | || ||____|  |____|| || |  |________|  | || |   `._____.'  | |\n",
    "| |___|___|___| |___| | | |              | || |              | || |              | || |              | |\n",
    "| | . | 0 | = | | / | | | '--------------' || '--------------' || '--------------' || '--------------' |\n",
    "| |___|___|___| |___| |  '----------------'  '----------------'  '----------------'  '----------------' \n",
    "|_____________________|\n",
    "\"\"\""
   ]
  },
  {
   "cell_type": "code",
   "execution_count": 33,
   "id": "031e0654-b09f-47fb-a9b1-4caa2d3570ce",
   "metadata": {},
   "outputs": [],
   "source": [
    "def add(num1, num2):\n",
    "    return num1 + num2\n",
    "\n",
    "def sub(num1, num2):\n",
    "    return num1 - num2\n",
    "\n",
    "def mul(num1, num2):\n",
    "    return num1 * num2\n",
    "\n",
    "def div(num1, num2):\n",
    "    return num1//num2\n",
    "    "
   ]
  },
  {
   "cell_type": "code",
   "execution_count": 34,
   "id": "7b80b132-d465-4e0e-be40-d201427d0af2",
   "metadata": {},
   "outputs": [
    {
     "name": "stdin",
     "output_type": "stream",
     "text": [
      "Wanna Exit? (y/n) y\n"
     ]
    }
   ],
   "source": [
    "print(logo)\n",
    "\n",
    "from IPython.display import clear_output\n",
    "import time\n",
    "while True:\n",
    "    e = input(\"Wanna Exit? (y/n)\")\n",
    "    if ( e == 'y'):\n",
    "        break\n",
    "    else:\n",
    "        n1 = int(input(\"Enter a number: \"))\n",
    "        pp = []\n",
    "        pp.append(n1)\n",
    "        \n",
    "        p = 0\n",
    "        s = 0\n",
    "        while True:\n",
    "            print(\"+ \\n- \\n* \\n/\")\n",
    "        \n",
    "            op = input(\"Choose an operation: \")\n",
    "            p = int(input(\"Enter the second number\"))\n",
    "            pp.append(p)\n",
    "            if ( op == '+'):\n",
    "                s = add(pp[len(pp)-2], p)\n",
    "                pp.append(s)\n",
    "                print(\"The sum is: \",s)\n",
    "            elif ( op == '-'):\n",
    "                s = sub(pp[len(pp)-2], p)\n",
    "                print(\"The subtraction is: \",s)\n",
    "                pp.append(s)\n",
    "            elif ( op == '*'):\n",
    "                s = mul(pp[len(pp)-2], p)\n",
    "                print(\"The product is: \",s)\n",
    "                pp.append(s)\n",
    "            elif ( op == '/'):\n",
    "                s = div(pp[len(pp)-2], p)\n",
    "                print(\"The quotient is: \",s)\n",
    "                pp.append(s)\n",
    "            c = input(\"Do you want to continue with the answer(y) or start new(n)?\")\n",
    "            if (c == 'y'):\n",
    "                print(f\"Okie \\nYour playing with number: {s}\")\n",
    "                continue\n",
    "            else:\n",
    "                clear_output(wait = True)\n",
    "                time.sleep(1)\n",
    "                break\n",
    "        \n"
   ]
  },
  {
   "cell_type": "code",
   "execution_count": null,
   "id": "e60a387d-8be0-48d8-8b9b-6beca4053e49",
   "metadata": {},
   "outputs": [],
   "source": []
  },
  {
   "cell_type": "code",
   "execution_count": null,
   "id": "95978edd-a4f9-4204-93b8-596aab3bc0d5",
   "metadata": {},
   "outputs": [],
   "source": []
  }
 ],
 "metadata": {
  "kernelspec": {
   "display_name": "Python 3 (ipykernel)",
   "language": "python",
   "name": "python3"
  },
  "language_info": {
   "codemirror_mode": {
    "name": "ipython",
    "version": 3
   },
   "file_extension": ".py",
   "mimetype": "text/x-python",
   "name": "python",
   "nbconvert_exporter": "python",
   "pygments_lexer": "ipython3",
   "version": "3.11.9"
  }
 },
 "nbformat": 4,
 "nbformat_minor": 5
}
