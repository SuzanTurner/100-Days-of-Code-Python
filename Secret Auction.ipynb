{
 "cells": [
  {
   "cell_type": "code",
   "execution_count": 27,
   "id": "615a8064-0722-4cbf-8f7c-6d65a8607e07",
   "metadata": {},
   "outputs": [],
   "source": [
    "logo = '''\n",
    "                         ___________\n",
    "                         \\         /\n",
    "                          )_______(\n",
    "                          |\"\"\"\"\"\"\"|_.-._,.---------.,_.-._\n",
    "                          |       | | |               | | ''-.\n",
    "                          |       |_| |_             _| |_..-'\n",
    "                          |_______| '-' `'---------'` '-'\n",
    "                          )\"\"\"\"\"\"\"(\n",
    "                         /_________\\\\\n",
    "                       .-------------.\n",
    "                      /_______________\\\\\n",
    "                      '''\n"
   ]
  },
  {
   "cell_type": "code",
   "execution_count": null,
   "id": "1168aee1-fcfb-48a2-8be0-2a38f1b0f0a0",
   "metadata": {},
   "outputs": [
    {
     "name": "stdout",
     "output_type": "stream",
     "text": [
      "\n",
      "                         ___________\n",
      "                         \\         /\n",
      "                          )_______(\n",
      "                          |\"\"\"\"\"\"\"|_.-._,.---------.,_.-._\n",
      "                          |       | | |               | | ''-.\n",
      "                          |       |_| |_             _| |_..-'\n",
      "                          |_______| '-' `'---------'` '-'\n",
      "                          )\"\"\"\"\"\"\"(\n",
      "                         /_________\\\n",
      "                       .-------------.\n",
      "                      /_______________\\\n",
      "                      \n",
      "Welcome to the Secret Auction\n"
     ]
    }
   ],
   "source": [
    "from IPython.display import clear_output\n",
    "import time\n",
    "\n",
    "print(logo)\n",
    "print(\"Welcome to the Secret Auction\")\n",
    "auc = {}\n",
    "run = True\n",
    "while run:\n",
    "    name = input(\"Enter your name: \")\n",
    "    price = int(input(\"Enter the bidding price: $\"))\n",
    "    auc[name] = price\n",
    "    clear_output(wait=True)\n",
    "    time.sleep(1)\n",
    "    c = input(\"Is there anyone after you? (y/n)\").lower()\n",
    "    if (c == 'y'):\n",
    "        continue\n",
    "    else:\n",
    "        break\n",
    "\n",
    "clear_output(wait=True)\n",
    "time.sleep(1)\n",
    "\n",
    "def high(auc):\n",
    "    h = 0\n",
    "    n = \"\"\n",
    "    for i in auc:\n",
    "        if (auc[i] > h):\n",
    "            h = auc[i]\n",
    "            n = i\n",
    "    print(\"RESULTS!!\\n\")\n",
    "    print(f\"The item is given to {n} who bid ${h}\")\n",
    "    \n",
    "\n",
    "high(auc)\n",
    "    "
   ]
  },
  {
   "cell_type": "code",
   "execution_count": null,
   "id": "40fece09-427d-43f6-9833-1a99ee128aa4",
   "metadata": {},
   "outputs": [],
   "source": []
  }
 ],
 "metadata": {
  "kernelspec": {
   "display_name": "Python 3 (ipykernel)",
   "language": "python",
   "name": "python3"
  },
  "language_info": {
   "codemirror_mode": {
    "name": "ipython",
    "version": 3
   },
   "file_extension": ".py",
   "mimetype": "text/x-python",
   "name": "python",
   "nbconvert_exporter": "python",
   "pygments_lexer": "ipython3",
   "version": "3.11.9"
  }
 },
 "nbformat": 4,
 "nbformat_minor": 5
}
