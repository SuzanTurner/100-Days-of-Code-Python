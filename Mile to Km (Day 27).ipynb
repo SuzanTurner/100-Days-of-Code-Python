{
 "cells": [
  {
   "cell_type": "code",
   "execution_count": 1,
   "id": "8918fa11-9f02-4f6c-bfca-54c15ec863b8",
   "metadata": {},
   "outputs": [],
   "source": [
    "import tkinter"
   ]
  },
  {
   "cell_type": "code",
   "execution_count": 85,
   "id": "6f7399b2-a961-4d01-97e2-d4b32f0cea55",
   "metadata": {},
   "outputs": [
    {
     "ename": "SyntaxError",
     "evalue": "'(' was never closed (3661800209.py, line 10)",
     "output_type": "error",
     "traceback": [
      "\u001b[1;36m  Cell \u001b[1;32mIn[85], line 10\u001b[1;36m\u001b[0m\n\u001b[1;33m    kms = (float(miles.get(\"1.0\", tkinter.END).strip()) * 1.6\u001b[0m\n\u001b[1;37m          ^\u001b[0m\n\u001b[1;31mSyntaxError\u001b[0m\u001b[1;31m:\u001b[0m '(' was never closed\n"
     ]
    }
   ],
   "source": [
    "window = tkinter.Tk()\n",
    "window.minsize(width = 400, height = 100)\n",
    "window.configure(bg = \"pink\")\n",
    "window.title(\"Miles to Kms Converter\")\n",
    "\n",
    "text = tkinter.Text(width = 10, height = 1)\n",
    "\n",
    "km = tkinter.Label()\n",
    "def convert():\n",
    "    kms = (float(miles.get(\"1.0\", tkinter.END).strip()) * 1.6\n",
    "    text.focus()\n",
    "    text.delete(\"1.0\", tkinter.END)\n",
    "    text.insert(\"1.0\", f\"{round(kms, 3)}\")\n",
    "    text.grid(column = 5, row = 2)\n",
    "    km.config(text = \"kms\")\n",
    "    km.grid(column = 6, row = 2)\n",
    "   \n",
    "label = tkinter.Label()\n",
    "label.config(text = \"Enter Miles\")\n",
    "label.grid(column = 1, row = 2)\n",
    "\n",
    "button = tkinter.Button(text = \"Convert\", command = convert)\n",
    "\n",
    "miles = tkinter.Text(width = 10, height = 1)\n",
    "miles.focus()\n",
    "miles.grid(column = 2, row = 2)\n",
    "\n",
    "l = tkinter.Label()\n",
    "l.config(text = \"=\")\n",
    "l.grid(column = 3, row = 2)\n",
    "button.grid(column = 3, row = 5)\n",
    "\n",
    "blank = tkinter.Label()\n",
    "blank.config(text = \"\", fg = \"pink\", bg = \"pink\")\n",
    "blank.grid(column = 1, row = 1)\n",
    "\n",
    "\n",
    "window.mainloop()"
   ]
  },
  {
   "cell_type": "code",
   "execution_count": null,
   "id": "a6e3b36d-e80f-4264-a89c-9b0dd4e1b343",
   "metadata": {},
   "outputs": [],
   "source": []
  },
  {
   "cell_type": "markdown",
   "id": "855f9ed9-af01-4c97-b1c3-89467386d1b7",
   "metadata": {},
   "source": [
    "# "
   ]
  },
  {
   "cell_type": "code",
   "execution_count": null,
   "id": "6547a45a-f073-4682-8f6e-beeed524c7cd",
   "metadata": {},
   "outputs": [],
   "source": []
  }
 ],
 "metadata": {
  "kernelspec": {
   "display_name": "Python 3 (ipykernel)",
   "language": "python",
   "name": "python3"
  },
  "language_info": {
   "codemirror_mode": {
    "name": "ipython",
    "version": 3
   },
   "file_extension": ".py",
   "mimetype": "text/x-python",
   "name": "python",
   "nbconvert_exporter": "python",
   "pygments_lexer": "ipython3",
   "version": "3.11.9"
  }
 },
 "nbformat": 4,
 "nbformat_minor": 5
}
