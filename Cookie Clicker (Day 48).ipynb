{
 "cells": [
  {
   "cell_type": "code",
   "execution_count": 1,
   "id": "147b545b-91f5-470c-8432-048b99db4d54",
   "metadata": {},
   "outputs": [],
   "source": [
    "import selenium\n",
    "from selenium import webdriver\n",
    "from selenium.webdriver.common.by import By\n",
    "from selenium.webdriver.common.keys import Keys\n"
   ]
  },
  {
   "cell_type": "code",
   "execution_count": 5,
   "id": "1e2d672c-8e11-403c-8766-f1a3d924d6c0",
   "metadata": {},
   "outputs": [],
   "source": [
    "import time"
   ]
  },
  {
   "cell_type": "code",
   "execution_count": 20,
   "id": "948dfd0b-8fe3-4493-81d4-d6fc8f8214c9",
   "metadata": {},
   "outputs": [
    {
     "ename": "ElementClickInterceptedException",
     "evalue": "Message: element click intercepted: Element <iframe id=\"game\" title=\"Duck Duck Clicker 3D\" src=\"https://www.hoodamath.com/mobile/games/duck-duck-clicker-3d/game.html?nocheckorient=1\" scrolling=\"no\" allow=\"fullscreen\" style=\"width:700;height:525;margin:0;border:0;padding:0;\"></iframe> is not clickable at point (518, 342). Other element would receive the click: <iframe id=\"aswift_3\" name=\"aswift_3\" style=\"width: 100vw !important; height: 100vh !important; inset: 0px auto auto 0px !important; position: absolute !important; clear: none !important; display: inline !important; float: none !important; margin: 0px !important; max-height: none !important; max-width: none !important; opacity: 1 !important; overflow: visible !important; padding: 0px !important; vertical-align: baseline !important; visibility: visible !important; z-index: auto !important;\" sandbox=\"allow-forms allow-popups allow-popups-to-escape-sandbox allow-same-origin allow-scripts allow-top-navigation-by-user-activation\" width=\"\" height=\"\" frameborder=\"0\" marginwidth=\"0\" marginheight=\"0\" vspace=\"0\" hspace=\"0\" allowtransparency=\"true\" scrolling=\"no\" allow=\"attribution-reporting; run-ad-auction\" src=\"https://pagead2.googlesyndication.com/pagead/html/r20241205/r20190131/zrt_lookup_fy2021.html#RS-0-&amp;adk=1812271808&amp;client=ca-pub-6495588245871342&amp;fa=8&amp;ifi=4&amp;uci=a!4\" data-google-container-id=\"a!4\" tabindex=\"0\" title=\"Advertisement\" aria-label=\"Advertisement\" data-google-query-id=\"COq8wuKRnYoDFTSdUAYd_U8qdw\" data-load-complete=\"true\"></iframe>\n  (Session info: chrome=131.0.6778.109)\nStacktrace:\n\tGetHandleVerifier [0x00007FF6B6C86CF5+28821]\n\t(No symbol) [0x00007FF6B6BF3880]\n\t(No symbol) [0x00007FF6B6A9578A]\n\t(No symbol) [0x00007FF6B6AF0E8E]\n\t(No symbol) [0x00007FF6B6AEE92C]\n\t(No symbol) [0x00007FF6B6AEBAF6]\n\t(No symbol) [0x00007FF6B6AEAA51]\n\t(No symbol) [0x00007FF6B6ADCBA0]\n\t(No symbol) [0x00007FF6B6B0F2FA]\n\t(No symbol) [0x00007FF6B6ADC3F6]\n\t(No symbol) [0x00007FF6B6B0F510]\n\t(No symbol) [0x00007FF6B6B2F412]\n\t(No symbol) [0x00007FF6B6B0F0A3]\n\t(No symbol) [0x00007FF6B6ADA778]\n\t(No symbol) [0x00007FF6B6ADB8E1]\n\tGetHandleVerifier [0x00007FF6B6FBFCED+3408013]\n\tGetHandleVerifier [0x00007FF6B6FD745F+3504127]\n\tGetHandleVerifier [0x00007FF6B6FCB63D+3455453]\n\tGetHandleVerifier [0x00007FF6B6D4BDFB+835995]\n\t(No symbol) [0x00007FF6B6BFEB9F]\n\t(No symbol) [0x00007FF6B6BFA854]\n\t(No symbol) [0x00007FF6B6BFA9ED]\n\t(No symbol) [0x00007FF6B6BEA1D9]\n\tBaseThreadInitThunk [0x00007FFA8C0D259D+29]\n\tRtlUserThreadStart [0x00007FFA8E32AF38+40]\n",
     "output_type": "error",
     "traceback": [
      "\u001b[1;31m---------------------------------------------------------------------------\u001b[0m",
      "\u001b[1;31mElementClickInterceptedException\u001b[0m          Traceback (most recent call last)",
      "Cell \u001b[1;32mIn[20], line 10\u001b[0m\n\u001b[0;32m      8\u001b[0m play \u001b[38;5;241m=\u001b[39m driver\u001b[38;5;241m.\u001b[39mfind_element(By\u001b[38;5;241m.\u001b[39mID, \u001b[38;5;124m\"\u001b[39m\u001b[38;5;124mgame\u001b[39m\u001b[38;5;124m\"\u001b[39m)\n\u001b[0;32m      9\u001b[0m \u001b[38;5;28;01mwhile\u001b[39;00m \u001b[38;5;28;01mTrue\u001b[39;00m:\n\u001b[1;32m---> 10\u001b[0m     \u001b[43mplay\u001b[49m\u001b[38;5;241;43m.\u001b[39;49m\u001b[43mclick\u001b[49m\u001b[43m(\u001b[49m\u001b[43m)\u001b[49m\n\u001b[0;32m     11\u001b[0m     time\u001b[38;5;241m.\u001b[39msleep(\u001b[38;5;241m0.1\u001b[39m)\n\u001b[0;32m     14\u001b[0m driver\u001b[38;5;241m.\u001b[39mquit()\n",
      "File \u001b[1;32m~\\AppData\\Local\\Programs\\Python\\Python312\\Lib\\site-packages\\selenium\\webdriver\\remote\\webelement.py:94\u001b[0m, in \u001b[0;36mWebElement.click\u001b[1;34m(self)\u001b[0m\n\u001b[0;32m     92\u001b[0m \u001b[38;5;28;01mdef\u001b[39;00m \u001b[38;5;21mclick\u001b[39m(\u001b[38;5;28mself\u001b[39m) \u001b[38;5;241m-\u001b[39m\u001b[38;5;241m>\u001b[39m \u001b[38;5;28;01mNone\u001b[39;00m:\n\u001b[0;32m     93\u001b[0m \u001b[38;5;250m    \u001b[39m\u001b[38;5;124;03m\"\"\"Clicks the element.\"\"\"\u001b[39;00m\n\u001b[1;32m---> 94\u001b[0m     \u001b[38;5;28;43mself\u001b[39;49m\u001b[38;5;241;43m.\u001b[39;49m\u001b[43m_execute\u001b[49m\u001b[43m(\u001b[49m\u001b[43mCommand\u001b[49m\u001b[38;5;241;43m.\u001b[39;49m\u001b[43mCLICK_ELEMENT\u001b[49m\u001b[43m)\u001b[49m\n",
      "File \u001b[1;32m~\\AppData\\Local\\Programs\\Python\\Python312\\Lib\\site-packages\\selenium\\webdriver\\remote\\webelement.py:395\u001b[0m, in \u001b[0;36mWebElement._execute\u001b[1;34m(self, command, params)\u001b[0m\n\u001b[0;32m    393\u001b[0m     params \u001b[38;5;241m=\u001b[39m {}\n\u001b[0;32m    394\u001b[0m params[\u001b[38;5;124m\"\u001b[39m\u001b[38;5;124mid\u001b[39m\u001b[38;5;124m\"\u001b[39m] \u001b[38;5;241m=\u001b[39m \u001b[38;5;28mself\u001b[39m\u001b[38;5;241m.\u001b[39m_id\n\u001b[1;32m--> 395\u001b[0m \u001b[38;5;28;01mreturn\u001b[39;00m \u001b[38;5;28;43mself\u001b[39;49m\u001b[38;5;241;43m.\u001b[39;49m\u001b[43m_parent\u001b[49m\u001b[38;5;241;43m.\u001b[39;49m\u001b[43mexecute\u001b[49m\u001b[43m(\u001b[49m\u001b[43mcommand\u001b[49m\u001b[43m,\u001b[49m\u001b[43m \u001b[49m\u001b[43mparams\u001b[49m\u001b[43m)\u001b[49m\n",
      "File \u001b[1;32m~\\AppData\\Local\\Programs\\Python\\Python312\\Lib\\site-packages\\selenium\\webdriver\\remote\\webdriver.py:384\u001b[0m, in \u001b[0;36mWebDriver.execute\u001b[1;34m(self, driver_command, params)\u001b[0m\n\u001b[0;32m    382\u001b[0m response \u001b[38;5;241m=\u001b[39m \u001b[38;5;28mself\u001b[39m\u001b[38;5;241m.\u001b[39mcommand_executor\u001b[38;5;241m.\u001b[39mexecute(driver_command, params)\n\u001b[0;32m    383\u001b[0m \u001b[38;5;28;01mif\u001b[39;00m response:\n\u001b[1;32m--> 384\u001b[0m     \u001b[38;5;28;43mself\u001b[39;49m\u001b[38;5;241;43m.\u001b[39;49m\u001b[43merror_handler\u001b[49m\u001b[38;5;241;43m.\u001b[39;49m\u001b[43mcheck_response\u001b[49m\u001b[43m(\u001b[49m\u001b[43mresponse\u001b[49m\u001b[43m)\u001b[49m\n\u001b[0;32m    385\u001b[0m     response[\u001b[38;5;124m\"\u001b[39m\u001b[38;5;124mvalue\u001b[39m\u001b[38;5;124m\"\u001b[39m] \u001b[38;5;241m=\u001b[39m \u001b[38;5;28mself\u001b[39m\u001b[38;5;241m.\u001b[39m_unwrap_value(response\u001b[38;5;241m.\u001b[39mget(\u001b[38;5;124m\"\u001b[39m\u001b[38;5;124mvalue\u001b[39m\u001b[38;5;124m\"\u001b[39m, \u001b[38;5;28;01mNone\u001b[39;00m))\n\u001b[0;32m    386\u001b[0m     \u001b[38;5;28;01mreturn\u001b[39;00m response\n",
      "File \u001b[1;32m~\\AppData\\Local\\Programs\\Python\\Python312\\Lib\\site-packages\\selenium\\webdriver\\remote\\errorhandler.py:232\u001b[0m, in \u001b[0;36mErrorHandler.check_response\u001b[1;34m(self, response)\u001b[0m\n\u001b[0;32m    230\u001b[0m         alert_text \u001b[38;5;241m=\u001b[39m value[\u001b[38;5;124m\"\u001b[39m\u001b[38;5;124malert\u001b[39m\u001b[38;5;124m\"\u001b[39m]\u001b[38;5;241m.\u001b[39mget(\u001b[38;5;124m\"\u001b[39m\u001b[38;5;124mtext\u001b[39m\u001b[38;5;124m\"\u001b[39m)\n\u001b[0;32m    231\u001b[0m     \u001b[38;5;28;01mraise\u001b[39;00m exception_class(message, screen, stacktrace, alert_text)  \u001b[38;5;66;03m# type: ignore[call-arg]  # mypy is not smart enough here\u001b[39;00m\n\u001b[1;32m--> 232\u001b[0m \u001b[38;5;28;01mraise\u001b[39;00m exception_class(message, screen, stacktrace)\n",
      "\u001b[1;31mElementClickInterceptedException\u001b[0m: Message: element click intercepted: Element <iframe id=\"game\" title=\"Duck Duck Clicker 3D\" src=\"https://www.hoodamath.com/mobile/games/duck-duck-clicker-3d/game.html?nocheckorient=1\" scrolling=\"no\" allow=\"fullscreen\" style=\"width:700;height:525;margin:0;border:0;padding:0;\"></iframe> is not clickable at point (518, 342). Other element would receive the click: <iframe id=\"aswift_3\" name=\"aswift_3\" style=\"width: 100vw !important; height: 100vh !important; inset: 0px auto auto 0px !important; position: absolute !important; clear: none !important; display: inline !important; float: none !important; margin: 0px !important; max-height: none !important; max-width: none !important; opacity: 1 !important; overflow: visible !important; padding: 0px !important; vertical-align: baseline !important; visibility: visible !important; z-index: auto !important;\" sandbox=\"allow-forms allow-popups allow-popups-to-escape-sandbox allow-same-origin allow-scripts allow-top-navigation-by-user-activation\" width=\"\" height=\"\" frameborder=\"0\" marginwidth=\"0\" marginheight=\"0\" vspace=\"0\" hspace=\"0\" allowtransparency=\"true\" scrolling=\"no\" allow=\"attribution-reporting; run-ad-auction\" src=\"https://pagead2.googlesyndication.com/pagead/html/r20241205/r20190131/zrt_lookup_fy2021.html#RS-0-&amp;adk=1812271808&amp;client=ca-pub-6495588245871342&amp;fa=8&amp;ifi=4&amp;uci=a!4\" data-google-container-id=\"a!4\" tabindex=\"0\" title=\"Advertisement\" aria-label=\"Advertisement\" data-google-query-id=\"COq8wuKRnYoDFTSdUAYd_U8qdw\" data-load-complete=\"true\"></iframe>\n  (Session info: chrome=131.0.6778.109)\nStacktrace:\n\tGetHandleVerifier [0x00007FF6B6C86CF5+28821]\n\t(No symbol) [0x00007FF6B6BF3880]\n\t(No symbol) [0x00007FF6B6A9578A]\n\t(No symbol) [0x00007FF6B6AF0E8E]\n\t(No symbol) [0x00007FF6B6AEE92C]\n\t(No symbol) [0x00007FF6B6AEBAF6]\n\t(No symbol) [0x00007FF6B6AEAA51]\n\t(No symbol) [0x00007FF6B6ADCBA0]\n\t(No symbol) [0x00007FF6B6B0F2FA]\n\t(No symbol) [0x00007FF6B6ADC3F6]\n\t(No symbol) [0x00007FF6B6B0F510]\n\t(No symbol) [0x00007FF6B6B2F412]\n\t(No symbol) [0x00007FF6B6B0F0A3]\n\t(No symbol) [0x00007FF6B6ADA778]\n\t(No symbol) [0x00007FF6B6ADB8E1]\n\tGetHandleVerifier [0x00007FF6B6FBFCED+3408013]\n\tGetHandleVerifier [0x00007FF6B6FD745F+3504127]\n\tGetHandleVerifier [0x00007FF6B6FCB63D+3455453]\n\tGetHandleVerifier [0x00007FF6B6D4BDFB+835995]\n\t(No symbol) [0x00007FF6B6BFEB9F]\n\t(No symbol) [0x00007FF6B6BFA854]\n\t(No symbol) [0x00007FF6B6BFA9ED]\n\t(No symbol) [0x00007FF6B6BEA1D9]\n\tBaseThreadInitThunk [0x00007FFA8C0D259D+29]\n\tRtlUserThreadStart [0x00007FFA8E32AF38+40]\n"
     ]
    }
   ],
   "source": [
    "chrome_options = webdriver.ChromeOptions()\n",
    "chrome_options.add_experimental_option(\"detach\", True)\n",
    "\n",
    "driver = webdriver.Chrome(chrome_options)\n",
    "driver.get(\"https://www.hoodamath.com/games/duckduckclicker3d.html#gsc.tab=0\")\n",
    "time.sleep(3)\n",
    "\n",
    "play = driver.find_element(By.ID, \"game\")\n",
    "while True:\n",
    "    play.click()\n",
    "    time.sleep(0.1)\n",
    "\n",
    "\n",
    "driver.quit()"
   ]
  },
  {
   "cell_type": "code",
   "execution_count": null,
   "id": "b6f3f3a8-f3d6-4d07-8a1b-34c476be3882",
   "metadata": {},
   "outputs": [],
   "source": []
  }
 ],
 "metadata": {
  "kernelspec": {
   "display_name": "Python 3 (ipykernel)",
   "language": "python",
   "name": "python3"
  },
  "language_info": {
   "codemirror_mode": {
    "name": "ipython",
    "version": 3
   },
   "file_extension": ".py",
   "mimetype": "text/x-python",
   "name": "python",
   "nbconvert_exporter": "python",
   "pygments_lexer": "ipython3",
   "version": "3.12.6"
  }
 },
 "nbformat": 4,
 "nbformat_minor": 5
}
