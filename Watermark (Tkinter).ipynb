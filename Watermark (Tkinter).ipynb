{
 "cells": [
  {
   "cell_type": "code",
   "execution_count": 23,
   "id": "bc1741c6-dcd4-44ba-b45f-d00f24123e2d",
   "metadata": {},
   "outputs": [],
   "source": [
    "import tkinter\n",
    "from tkinter import filedialog, simpledialog, messagebox"
   ]
  },
  {
   "cell_type": "code",
   "execution_count": 24,
   "id": "83c79c66-7ca3-4e4f-b20b-3296d756d617",
   "metadata": {},
   "outputs": [],
   "source": [
    "from PIL import Image, ImageDraw, ImageFont, ImageTk"
   ]
  },
  {
   "cell_type": "code",
   "execution_count": 25,
   "id": "8e7b671c-0394-4415-b0be-fe444f25c191",
   "metadata": {},
   "outputs": [],
   "source": [
    "import os"
   ]
  },
  {
   "cell_type": "code",
   "execution_count": 26,
   "id": "661994c0-193e-4fbf-b189-519214222f49",
   "metadata": {},
   "outputs": [
    {
     "name": "stdout",
     "output_type": "stream",
     "text": [
      "Watermark added at center!\n",
      "Image saved as C:/Users/hp/Downloads/dfsdf.png!\n"
     ]
    }
   ],
   "source": [
    "import tkinter as tk\n",
    "from tkinter import filedialog, simpledialog\n",
    "from PIL import Image, ImageDraw, ImageFont, ImageTk\n",
    "\n",
    "\n",
    "window = tk.Tk()\n",
    "window.title(\"Watermark Webapp\")\n",
    "window.geometry(\"350x500\")  \n",
    "window.configure(bg=\"white\")\n",
    "\n",
    "\n",
    "canvas = tk.Canvas(window, width=300, height=300, bg=\"lightgray\")\n",
    "canvas.grid(row=0, column=0, columnspan=2, padx=10, pady=10)\n",
    "\n",
    "\n",
    "img = None\n",
    "img_display = None\n",
    "img_path = None\n",
    "\n",
    "def open_image():\n",
    "\n",
    "    btn_watermark = tk.Button(window, text=\"Add Watermark\", command=add_watermark, font=(\"Helvetica\", 10), highlightthickness=2)\n",
    "    btn_watermark.grid(row=2, column=0, columnspan=2, pady=5)\n",
    "   \n",
    "    global img, img_display, img_path\n",
    "    img_path = filedialog.askopenfilename(\n",
    "        title=\"Select an Image\",\n",
    "        filetypes=[(\"Image Files\", \"*.png;*.jpg;*.jpeg;*.gif;*.bmp\")]\n",
    "    )\n",
    "    if not img_path:\n",
    "        return\n",
    "\n",
    "    img = Image.open(img_path).convert(\"RGBA\")\n",
    "    img.thumbnail((300, 300))  \n",
    "    img_display = ImageTk.PhotoImage(img)\n",
    "\n",
    "    canvas.delete(\"all\")\n",
    "    canvas.create_image(150, 150, image=img_display, anchor=\"center\")\n",
    "\n",
    "def add_watermark():\n",
    "    def save_image():\n",
    "        if img:\n",
    "            save_path = filedialog.asksaveasfilename(defaultextension=\".png\",\n",
    "                                                     filetypes=[(\"PNG Files\", \"*.png\"),\n",
    "                                                                (\"JPEG Files\", \"*.jpg\"),\n",
    "                                                                (\"All Files\", \"*.*\")])\n",
    "            if save_path:\n",
    "                watermarked.save(save_path)\n",
    "                print(f\"Image saved as {save_path}!\")\n",
    "                messagebox.showinfo(\"Success\", f\"Image saved successfully!\\nLocation: {save_path}\")\n",
    "\n",
    "    \n",
    "    global img, img_display\n",
    "    if img is None:\n",
    "        return\n",
    "\n",
    "\n",
    "    text = simpledialog.askstring(\"Watermark Text\", \"Enter the watermark message:\")\n",
    "    if not text:\n",
    "        return\n",
    "\n",
    "\n",
    "    where = simpledialog.askstring(\"Watermark Where?\", \"Where do you want the watermark? (Top, Center, Bottom)\")\n",
    "    if not where:\n",
    "        return\n",
    "\n",
    " \n",
    "    watermark = Image.new(\"RGBA\", img.size, (0, 0, 0, 0))\n",
    "    draw = ImageDraw.Draw(watermark)\n",
    "    font = ImageFont.truetype(\"arial.ttf\", 20)   \n",
    "\n",
    "    bbox = draw.textbbox((0, 0), text, font=font)\n",
    "    text_width, text_height = bbox[2] - bbox[0], bbox[3] - bbox[1]\n",
    "\n",
    "    width, height = img.size\n",
    "    positions = {\n",
    "        \"Top\": (width // 2 - text_width // 2, 10),\n",
    "        \"Center\": (width // 2 - text_width // 2, height // 2 - text_height // 2),\n",
    "        \"Bottom\": (width // 2 - text_width // 2, height - text_height - 10)\n",
    "    }\n",
    "\n",
    "\n",
    "    position = positions.get(where.capitalize(), positions[\"Bottom\"])\n",
    "\n",
    "\n",
    "    draw.text(position, text, font=font, fill=(255, 255, 255, 128))\n",
    "\n",
    "\n",
    "    watermarked = Image.alpha_composite(img, watermark)\n",
    "\n",
    "\n",
    "    img_display = ImageTk.PhotoImage(watermarked)\n",
    "    canvas.create_image(150, 150, image=img_display, anchor=\"center\")\n",
    "\n",
    "    print(f\"Watermark added at {where}!\")\n",
    "\n",
    "    save_button = tkinter.Button(command=save_image, text=\"Save Image\",\n",
    "                             font=(\"Helvetica\", 10, \"normal\"),\n",
    "                             highlightthickness=2, highlightbackground=\"black\")\n",
    "    save_button.grid(row=3, column=0, columnspan=2, padx=10, pady=10)\n",
    "\n",
    "\n",
    "btn_select = tk.Button(window, text=\"Select Image\", command=open_image, font=(\"Helvetica\", 10), highlightthickness=2)\n",
    "btn_select.grid(row=1, column=0, columnspan=2, pady=5)\n",
    "\n",
    "\n",
    "window.mainloop()\n"
   ]
  },
  {
   "cell_type": "code",
   "execution_count": null,
   "id": "21f4e0d4-a19b-4920-8e40-2d51e5069955",
   "metadata": {},
   "outputs": [],
   "source": []
  }
 ],
 "metadata": {
  "kernelspec": {
   "display_name": "Python 3 (ipykernel)",
   "language": "python",
   "name": "python3"
  },
  "language_info": {
   "codemirror_mode": {
    "name": "ipython",
    "version": 3
   },
   "file_extension": ".py",
   "mimetype": "text/x-python",
   "name": "python",
   "nbconvert_exporter": "python",
   "pygments_lexer": "ipython3",
   "version": "3.12.6"
  }
 },
 "nbformat": 4,
 "nbformat_minor": 5
}
