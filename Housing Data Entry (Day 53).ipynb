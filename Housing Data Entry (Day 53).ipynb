{
 "cells": [
  {
   "cell_type": "code",
   "execution_count": 1,
   "id": "3779dfff-a767-4ff8-a703-9fdad70d2950",
   "metadata": {},
   "outputs": [],
   "source": [
    "import requests\n",
    "from bs4 import BeautifulSoup"
   ]
  },
  {
   "cell_type": "code",
   "execution_count": 2,
   "id": "5813667b-324d-4d21-9055-6f8e0eda2cd1",
   "metadata": {},
   "outputs": [
    {
     "name": "stdout",
     "output_type": "stream",
     "text": [
      "<bound method Response.raise_for_status of <Response [200]>>\n"
     ]
    }
   ],
   "source": [
    "response = requests.get(\"https://appbrewery.github.io/Zillow-Clone/\")\n",
    "print(response.raise_for_status)"
   ]
  },
  {
   "cell_type": "code",
   "execution_count": 4,
   "id": "ca571d4e-24e3-4baf-93f7-28c80e21d757",
   "metadata": {},
   "outputs": [],
   "source": [
    "resp = response.text\n",
    "#print(resp)"
   ]
  },
  {
   "cell_type": "code",
   "execution_count": 5,
   "id": "568b4be8-d920-4aeb-b47f-50a0441a3655",
   "metadata": {},
   "outputs": [],
   "source": [
    "soup = BeautifulSoup(resp, \"html.parser\")"
   ]
  },
  {
   "cell_type": "code",
   "execution_count": 32,
   "id": "3c917155-5e62-4d4b-b60c-c96834124df2",
   "metadata": {},
   "outputs": [
    {
     "name": "stdout",
     "output_type": "stream",
     "text": [
      "['$2,895', '$2,810', '$2,450', '$2,940', '$2,395', '$2,816', '$2,974', '$2,704', '$2,810', '$2,798', '$2,195', '$2,995', '$2,895', '$2,805', '$1914', '$2,950', '$2,917', '$2,595', '$2,000', '$2,824', '$2,800', '$2,450', '$2,095', '$2,298', '$2,809', '$2,495', '$2,494', '$2,775', '$1,745', '$2,764', '$2,799', '$2,525', '$2,199', '$1,995', '$1,895', '$2,898', '$2,999', '$2,830', '$2,895', '$2,775', '$2,998', '$2,895', '$2,773', '$2,975']\n"
     ]
    }
   ],
   "source": [
    "prices_list = []\n",
    "prices = soup.find_all(class_ = \"PropertyCardWrapper__StyledPriceLine\")\n",
    "for p in prices:\n",
    "    text = p.text\n",
    "    pp = text.split(\"+\")\n",
    "    price = pp[0].split(\"/\")\n",
    "    prices_list.append(price[0])\n",
    "\n",
    "print(prices_list)"
   ]
  },
  {
   "cell_type": "code",
   "execution_count": 35,
   "id": "46c4b43b-3496-47fe-8ef8-8aceab6946b2",
   "metadata": {},
   "outputs": [
    {
     "name": "stdout",
     "output_type": "stream",
     "text": [
      "['images/87088c8276fe0c6b4c633ed5c9c7185b-p_e.jpg', 'images/0a9427c69dec4ed820f7f871a5fb6594-p_e.jpg', 'images/01ae778a92392c6dcf1a5755615b23d2-p_e.jpg', 'images/1ee4ce4e441cb44c98466427381064af-p_e.jpg', 'images/2ac201536e67981a09ff2830f0257f59-p_e.jpg', 'images/2c16630f9cdfd68a247d85f4c04e4220-p_e.jpg', 'images/2f8e6ec0010a0b57f43a80f45e24b76d-p_e.jpg', 'images/3ba20301163fdff9310304282abcd1e2-p_e.jpg', 'images/3bc8f6e21c8c791464681be0dd61b386-p_e.jpg', 'images/4ccd7e601984aabe9c00a9de906fc6d8-p_e.jpg', 'images/4cfe9e8a2d779ec1397edfb114f70ba8-p_e.jpg', 'images/4f93d2a2df06d8fdabab4ffc829ecd1e-p_e.jpg', 'images/5ae56bb3b6fc0d5efa9cbe22bcc56d66-p_e.jpg', 'images/6e98ccdfe9a9c1ce225d2fe4a4a24b3a-p_e.jpg', 'images/7b63fc6eb8538f96719ee40c972c83aa-p_e.jpg', 'images/8a6485589b497d444cda7a3d38ea1da8-p_e.jpg', 'images/8e5f276f8c442bff35da5d46d96648cc-p_e.jpg', 'images/c6f73ef8a49a546b596f28c2096618dc-p_e.jpg', 'images/19e6d47baefc56fa2dfd097e653cc7ce-p_e.jpg', 'images/23dcf0799e9548f523f6964a0f5ebd86-p_e.jpg', 'images/34c5dcc0afad33ed93f8d8a8f4715935-p_e.jpg', 'images/049d70b822060c56c5f04351dde090ad-p_e.jpg', 'images/63edab33891965415fc78213be1cf2aa-p_e.jpg', 'images/091bcd6ef78fe4eb4f9fd0627da1fcf3-p_e.jpg', 'images/94a40e861d9646d40f82b86a71379a50-p_e.jpeg', 'images/258f756a3b8a0fc02bf2540099126dc7-p_e.jpg', 'images/457a8ce104b617212b5493b695e060ec-p_e.jpg', 'images/932fea55de18e54111c343d25afe62d1-p_e.jpg', 'images/a30606db10ab9b05bfedc5896a2edec8-p_e.jpg', 'images/01331f7d7229aeb878401027cba11989-p_e.jpg', 'images/2223b363a45050711f2630ebb1a4565e-p_e.jpg', 'images/a015e3f712ca1a6c19afaec781d53e85-p_e.jpg', 'images/ba353396258b6e8ab9cedf93c2638b8c-p_e.jpg', 'images/918935477be91c4e5d42bb388ae88608-p_e.jpg', 'images/a7a35ac6021cb1c42729d3c35c70a8a2-p_e.jpg', 'images/c9ad0be1235ffdb746391e5dfb076ca8-p_e.jpg', 'images/c89db4e634d81ab3778358e715449d06-p_e.jpg', 'images/d5d5a52c2a238dd8154298119ee5ebbf-p_e.jpg', 'images/d96a09e56c691eafccbfc5073d28cdb1-p_e.jpg', 'images/dbafba454b66f574eaa1ec7700edf8ec-p_e.jpg', 'images/e3f39b83b61977f040338312c5e10d4e-p_e.jpg', 'images/e8e15cbaa46ae57948d4f13cffa66e79-p_e.jpg', 'images/e95e85edcc19a75d91afff285968bd9d-p_e.jpg', 'images/e3464700a7df97cc1833831eaac658eb-p_e.jpg']\n"
     ]
    }
   ],
   "source": [
    "images = soup.find_all(class_ = \"Image-c11n-8-84-listing\")\n",
    "links = []\n",
    "for image in images:\n",
    "    links.append(image.get(\"src\"))\n",
    "\n",
    "print(links)"
   ]
  },
  {
   "cell_type": "code",
   "execution_count": 54,
   "id": "2ff61c0d-1487-4091-be2c-506e7c86b570",
   "metadata": {},
   "outputs": [
    {
     "name": "stdout",
     "output_type": "stream",
     "text": [
      "images/3ba20301163fdff9310304282abcd1e2-p_e.jpg\n"
     ]
    }
   ],
   "source": [
    "print(links[7])"
   ]
  },
  {
   "cell_type": "code",
   "execution_count": null,
   "id": "d0ff2a21-3fee-4f06-926c-4446a2415149",
   "metadata": {},
   "outputs": [],
   "source": [
    "<address data-test=\"property-card-addr\">\n",
    "                                  747 Geary Street, 747 Geary St, Oakland, CA 94609\n",
    "                                </address>"
   ]
  },
  {
   "cell_type": "code",
   "execution_count": 39,
   "id": "fe2bf23f-640f-46d3-ae36-8f80a90d6e58",
   "metadata": {},
   "outputs": [
    {
     "name": "stdout",
     "output_type": "stream",
     "text": [
      "['747 Geary Street, 747 Geary St, Oakland, CA 94609', 'Parkmerced | 3711 19th Ave, San Francisco, CA', '845 Sutter, 845 Sutter St APT 509, San Francisco, CA', '100 Van Ness, 100 Van Ness Ave #410, San Francisco, CA 94102', '828 Franklin, 828 Franklin St #606, San Francisco, CA 94102', '923 Folsom, 923 Folsom St APT 506, San Francisco, CA 94107', 'Hanover Soma West, 1140 Harrison St #138, San Francisco, CA 94103', 'Slate Residences, 911 Bryant St #102, San Francisco, CA 94103', 'NorthPoint Apartments, 2211 Stockton St, San Francisco, CA 94133', 'The Landing | 1395 22nd St, San Francisco, CA', '1350 Washington Street | 1350 Washington St, San Francisco, CA', '2775 Market St, 2775 Market St APT 102, San Francisco, CA 94114', 'Mt. Sutro, 480 Warren Dr #312, San Francisco, CA 94131', 'Konrad on the Park, 971 Eddy St #212, San Francisco, CA 94109', '1188 Mission at Trinity Place | 1188 Mission St, San Francisco, CA', 'Nob Hill Place, 1155 Jones St APT 208, San Francisco, CA 94109', 'Avalon Sunset Towers, 8 Locksley Ave, San Francisco, CA 94131', '125-135 Gardenside, 125 Gardenside Dr, San Francisco, CA 94114', 'Freedom West, 820 McAllister St, San Francisco, CA 94102', 'Franklin St, 24 Franklin St #805, San Francisco, CA 94102', 'Loft 168, 168 Bluxome St, San Francisco, CA 94107', 'Mosser Towers Apartments, 455 Eddy St APT E1102, San Francisco, CA 94102', '1029 Geary St., 1029 Geary St, San Francisco, CA 94109', '33 8th at Trinity Place | 33 8th St, San Francisco, CA', 'SoMa Square | 1 Saint Francis Pl, San Francisco, CA', '480 Potrero Ave, 480 Potrero Ave #610, San Francisco, CA 94110', 'The Mission | 240 Dolores St, San Francisco, CA', 'L Seven | 1222 Harrison St, San Francisco, CA', 'Palace Court Apartments | 555 Ofarrell St, San Francisco, CA', '2000 Post | 2000 Post St, San Francisco, CA', 'HQ | 1532 Harrison St, San Francisco, CA', 'AVA 55 Ninth | 55 9th St, San Francisco, CA', 'The Bay | 2133 Stockton St, San Francisco, CA', 'Lofts at Seven | 277 Golden Gate Ave, San Francisco, CA', '347 Eddy St. | 347 Eddy St, San Francisco, CA', 'Solaire | 299 Fremont St, San Francisco, CA', 'Marina Cove Apartments, 1550 Bay St APT B225, San Francisco, CA 94123', 'Avalon Dogpatch, 800 Indiana St, San Francisco, CA 94107', 'The Gateway, 430 Davis Ct #3-0306, San Francisco, CA 94111', '50 Laguna, 50 Laguna St APT 604, San Francisco, CA 94102', 'The Fillmore Center, 1475 Fillmore St #S30305, San Francisco, CA 94115', '1333 Gough Apartments at Cathedral Hall, 1333 Gough St APT 1G, San Francisco, CA 94109', '1177 Market at Trinity Place | 1177 Market St, San Francisco, CA', '300 Buchanan, 300 Buchanan St #202, San Francisco, CA 94102']\n"
     ]
    }
   ],
   "source": [
    "addresses = soup.find_all(name = \"address\")\n",
    "address_list = []\n",
    "for address in addresses:\n",
    "    address_list.append((address.text).strip())\n",
    "print(address_list)"
   ]
  },
  {
   "cell_type": "code",
   "execution_count": 64,
   "id": "bb5f3925-b23c-49b6-94d1-d945b1f8bf7d",
   "metadata": {},
   "outputs": [],
   "source": [
    "# all data has been scraped"
   ]
  },
  {
   "cell_type": "code",
   "execution_count": 65,
   "id": "2f427371-f39f-47d8-9621-777a0c0653c2",
   "metadata": {},
   "outputs": [],
   "source": [
    "sheet_link = \"https://docs.google.com/forms/d/e/1FAIpQLSdprQSaUmZQA8RW_ek89iDtZ5rrR7MlmQ9RXBLR_QGwGYJTNA/viewform?usp=header\""
   ]
  },
  {
   "cell_type": "code",
   "execution_count": 66,
   "id": "c29696ab-2dd1-4026-832f-77ff20bb9965",
   "metadata": {},
   "outputs": [],
   "source": [
    "import selenium\n",
    "from selenium import webdriver\n",
    "from selenium.webdriver.common.by import By\n",
    "from selenium.webdriver.common.keys import Keys"
   ]
  },
  {
   "cell_type": "code",
   "execution_count": 67,
   "id": "7359e914-7255-401d-b3d8-560359b5824d",
   "metadata": {},
   "outputs": [],
   "source": [
    "from selenium.webdriver.chrome.service import Service\n",
    "from selenium.webdriver.chrome.options import Options"
   ]
  },
  {
   "cell_type": "code",
   "execution_count": 68,
   "id": "06473292-e77e-425f-8a46-8daa43b7d05f",
   "metadata": {},
   "outputs": [],
   "source": [
    "import selenium\n",
    "from selenium import webdriver\n",
    "from selenium.webdriver.common.by import By\n",
    "from selenium.webdriver.common.keys import Keys\n",
    "\n",
    "from selenium.webdriver.chrome.service import Service\n",
    "from selenium.webdriver.chrome.options import Options\n",
    "\n",
    "brave_path = \"C:/Program Files/BraveSoftware/Brave-Browser/Application/brave.exe\"\n",
    "\n",
    "options = Options()\n",
    "options.binary_location = brave_path\n",
    "\n",
    "chromedriver_path = \"C:/Users/hp/Downloads/chromedriver-win64/chromedriver.exe\"\n",
    "\n",
    "service = Service(chromedriver_path)\n",
    "driver = webdriver.Chrome(service=service, options=options)\n",
    "\n",
    "for i in range(len(links)):\n",
    "    driver.get(sheet_link)\n",
    "    \n",
    "    add = driver.find_element(By.XPATH, '//*[@id=\"mG61Hd\"]/div[2]/div/div[2]/div[1]/div/div/div[2]/div/div[1]/div/div[1]/input')\n",
    "    rent = driver.find_element(By.XPATH, '//*[@id=\"mG61Hd\"]/div[2]/div/div[2]/div[2]/div/div/div[2]/div/div[1]/div/div[1]/input')\n",
    "    link = driver.find_element(By.XPATH, '//*[@id=\"mG61Hd\"]/div[2]/div/div[2]/div[3]/div/div/div[2]/div/div[1]/div/div[1]/input')\n",
    "    \n",
    "    add.send_keys(address_list[i])\n",
    "    rent.send_keys(prices_list[i])\n",
    "    link.send_keys(links[i])\n",
    "\n",
    "    submit = driver.find_element(By.CSS_SELECTOR, \".NPEfkd.RveJvd.snByac\")\n",
    "    submit.click()\n",
    "\n",
    "driver.quit()\n",
    "\n",
    "#sheet = \"https://docs.google.com/spreadsheets/d/1mGMUqSoRGMNOk8IjCZTypjutHUYEb3CgyTiQAb6rt90/edit?resourcekey=&gid=1437789162#gid=1437789162\"\n",
    "#driver.get(sheet)"
   ]
  },
  {
   "cell_type": "code",
   "execution_count": 73,
   "id": "2b7ae353-2812-4152-9070-db03e4070364",
   "metadata": {},
   "outputs": [],
   "source": [
    "# The last the statements have been commented out as they require user authorisation (to veiw the google sheet)\n",
    "# We can rather end the program here, as the last step i"
   ]
  },
  {
   "cell_type": "code",
   "execution_count": null,
   "id": "d1ab6a70-fd5c-4186-8191-ff986de6a934",
   "metadata": {},
   "outputs": [],
   "source": []
  }
 ],
 "metadata": {
  "kernelspec": {
   "display_name": "Python 3 (ipykernel)",
   "language": "python",
   "name": "python3"
  },
  "language_info": {
   "codemirror_mode": {
    "name": "ipython",
    "version": 3
   },
   "file_extension": ".py",
   "mimetype": "text/x-python",
   "name": "python",
   "nbconvert_exporter": "python",
   "pygments_lexer": "ipython3",
   "version": "3.12.6"
  }
 },
 "nbformat": 4,
 "nbformat_minor": 5
}
