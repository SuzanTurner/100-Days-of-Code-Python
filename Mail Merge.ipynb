{
 "cells": [
  {
   "cell_type": "code",
   "execution_count": 3,
   "id": "7573cc9f-a7ff-4ce5-8295-d7a765000185",
   "metadata": {},
   "outputs": [],
   "source": [
    "with open(r\"D:\\Yadh Documents\\100 Days of Code Python\\Names.txt\") as file:\n",
    "    names = file.readlines()\n"
   ]
  },
  {
   "cell_type": "code",
   "execution_count": 11,
   "id": "87381e32-6bd7-4a2b-b4c7-0bd72a59a6a7",
   "metadata": {},
   "outputs": [],
   "source": [
    "NAME = \"[name]\""
   ]
  },
  {
   "cell_type": "code",
   "execution_count": 21,
   "id": "f55d2ae2-68ba-4a05-a250-f671b051deb3",
   "metadata": {},
   "outputs": [],
   "source": [
    "with open(r\"D:\\Yadh Documents\\100 Days of Code Python\\letter.txt\") as file:\n",
    "    letter = file.read()\n",
    "    for i in names:\n",
    "        stripped = i.strip()\n",
    "        new_letter = letter.replace(NAME, stripped)\n",
    "        with open(rf\"D:\\Yadh Documents\\100 Days of Code Python\\{stripped}.txt\", mode = \"w\") as f:\n",
    "            f.write(new_letter)\n",
    "        \n",
    "        "
   ]
  },
  {
   "cell_type": "markdown",
   "id": "2bd97575-8e10-4782-ac8f-846227620f17",
   "metadata": {},
   "source": [
    "##### This code has created multiple new files saved in the directory specified with diffrent names and contents"
   ]
  },
  {
   "cell_type": "code",
   "execution_count": null,
   "id": "9d69a413-1fc4-43fd-b57b-0dec400a6061",
   "metadata": {},
   "outputs": [],
   "source": []
  }
 ],
 "metadata": {
  "kernelspec": {
   "display_name": "Python 3 (ipykernel)",
   "language": "python",
   "name": "python3"
  },
  "language_info": {
   "codemirror_mode": {
    "name": "ipython",
    "version": 3
   },
   "file_extension": ".py",
   "mimetype": "text/x-python",
   "name": "python",
   "nbconvert_exporter": "python",
   "pygments_lexer": "ipython3",
   "version": "3.11.9"
  }
 },
 "nbformat": 4,
 "nbformat_minor": 5
}
