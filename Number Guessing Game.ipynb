{
 "cells": [
  {
   "cell_type": "code",
   "execution_count": null,
   "id": "2556d757-767e-4129-8597-703cfc239432",
   "metadata": {},
   "outputs": [],
   "source": [
    "import random\n",
    "from IPython.display import clear_output\n",
    "import time"
   ]
  },
  {
   "cell_type": "code",
   "execution_count": null,
   "id": "bd27a8d9-6060-4d84-9e19-0d9e1058061f",
   "metadata": {},
   "outputs": [],
   "source": [
    "import random\n",
    "\n",
    "def easy():\n",
    "    print(\"You have chosen easy mode, you have 10 guesses.\")\n",
    "    guess(10)\n",
    "\n",
    "def hard():\n",
    "    print(\"You have chosen hard mode, you have 5 guesses.\")\n",
    "    guess(5)\n",
    "\n",
    "def guess(chances):\n",
    "    for i in range(chances, 0, -1):\n",
    "        n = int(input(f\"Enter your guess ({i} chances left): \"))\n",
    "        if n > comp:\n",
    "            print(\"Too High\")\n",
    "        elif n < comp:\n",
    "            print(\"Too Low\")\n",
    "        else:\n",
    "            print(\"You guessed correctly! You won!!\")\n",
    "            return\n",
    "    print(f\"You've run out of guesses. The correct number was {comp}. You lost.\")\n",
    "\n",
    "print(\"Number Guessing Game \\nThe computer thinks of a number and you must guess it within a limit\")\n",
    "mode = input(\"Choose 'Easy' or 'Hard' mode: \").lower()\n",
    "comp = random.randint(1, 100)\n",
    "print(\"The computer has chosen a number between 1 and 100.\")\n",
    "\n",
    "while True:\n",
    "    start = input(\"Shall we start (y/n): \").lower()\n",
    "    if start == 'y':\n",
    "        if mode == \"easy\":\n",
    "            easy()\n",
    "        elif mode == \"hard\":\n",
    "            hard()\n",
    "        else:\n",
    "            print(\"Invalid mode selected. Please restart the game and choose 'Easy' or 'Hard'.\")\n",
    "        break  # Exit the loop after one game\n",
    "    else:\n",
    "        print(\"Game Over\")\n",
    "        break"
   ]
  },
  {
   "cell_type": "code",
   "execution_count": null,
   "id": "c5a399ca-0b51-4e3b-841b-7b09dc56f82a",
   "metadata": {},
   "outputs": [],
   "source": []
  }
 ],
 "metadata": {
  "kernelspec": {
   "display_name": "Python 3 (ipykernel)",
   "language": "python",
   "name": "python3"
  },
  "language_info": {
   "codemirror_mode": {
    "name": "ipython",
    "version": 3
   },
   "file_extension": ".py",
   "mimetype": "text/x-python",
   "name": "python",
   "nbconvert_exporter": "python",
   "pygments_lexer": "ipython3",
   "version": "3.11.9"
  }
 },
 "nbformat": 4,
 "nbformat_minor": 5
}
