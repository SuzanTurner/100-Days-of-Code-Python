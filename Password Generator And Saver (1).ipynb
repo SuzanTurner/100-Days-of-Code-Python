{
 "cells": [
  {
   "cell_type": "code",
   "execution_count": 30,
   "id": "9356128f-a620-4d0b-a0cf-2d403552b4d2",
   "metadata": {},
   "outputs": [
    {
     "name": "stdin",
     "output_type": "stream",
     "text": [
      "How long do you want your password to be?  40\n",
      "Do you want your password to contain special characters? (yes/no)  yes\n",
      "How many special characters do you want?  7\n",
      "Do you want your password to have numbers? (yes/no)  yes\n",
      "How many numbers do you want in your password?  5\n"
     ]
    },
    {
     "name": "stdout",
     "output_type": "stream",
     "text": [
      "\n",
      "Generating your password...\n",
      "Password: u*4U1X_gH8FTpDuC@VJuR9k$H5^sewRj(Q#YQjcR\n"
     ]
    },
    {
     "name": "stdin",
     "output_type": "stream",
     "text": [
      "Enter your name aditya\n",
      "Do you want to view stored passwords? (yes/no) yes\n"
     ]
    },
    {
     "name": "stdout",
     "output_type": "stream",
     "text": [
      "Name: yadhnika     Password: bQWWMPPn\n",
      "\n",
      "Name: Yadh     Password: @2O-L!)zLZP_P6ns5dX(wL2&0B3!8RdJcpe5Phc6\n",
      "\n",
      "Name: aditya     Password: u*4U1X_gH8FTpDuC@VJuR9k$H5^sewRj(Q#YQjcR\n",
      "\n"
     ]
    }
   ],
   "source": [
    "import random\n",
    "\n",
    "numbers = ['0', '1', '2', '3', '4', '5', '6', '7', '8', '9']\n",
    "spl = ['!', '@', '#', '$', '%', '^', '&', '*', '(', ')', '-', '_']\n",
    "caps = []\n",
    "smalls = []\n",
    "\n",
    "for i in range(65, 91):\n",
    "    caps.append(chr(i))\n",
    "for i in range(97, 123):\n",
    "    smalls.append(chr(i))\n",
    "\n",
    "pwd = []\n",
    "\n",
    "l = int(input(\"How long do you want your password to be? \"))\n",
    "s = input(\"Do you want your password to contain special characters? (yes/no) \").lower()\n",
    "if s == \"yes\":\n",
    "    ns = int(input(\"How many special characters do you want? \"))\n",
    "    for i in range(ns):\n",
    "        pwd.append(random.choice(spl))\n",
    "    l -= ns\n",
    "else:\n",
    "    print(\"Okie, no special characters\")\n",
    "\n",
    "n = input(\"Do you want your password to have numbers? (yes/no) \").lower()\n",
    "if n == \"yes\":\n",
    "    nn = int(input(\"How many numbers do you want in your password? \"))\n",
    "    for i in range(nn):\n",
    "        pwd.append(random.choice(numbers))\n",
    "    l -= nn\n",
    "else:\n",
    "    print(\"Okie, no numbers\")\n",
    "\n",
    "for i in range(l):\n",
    "    pwd.append(random.choice(caps + smalls))\n",
    "\n",
    "print(\"\\nGenerating your password...\")\n",
    "random.shuffle(pwd)\n",
    "password = ''.join(pwd)\n",
    "print(\"Password:\", password)\n",
    "\n",
    "def view():\n",
    "    with open (r\"D:\\Yadh Documents\\100 Days of Code Python\\SavedPasswords.txt\", \"r\") as file:\n",
    "        for line in file.readlines():\n",
    "            print(line)\n",
    "\n",
    "def store():\n",
    "    name = input(\"Enter your name\")\n",
    "    with open(r'D:\\Yadh Documents\\100 Days of Code Python\\SavedPasswords.txt', 'a') as f:\n",
    "       f.write(\"Name: \"+name + \"     \" + \"Password: \"+ password + \"\\n\")\n",
    "\n",
    "store()\n",
    "\n",
    "v = input(\"Do you want to view stored passwords? (yes/no)\").lower()\n",
    "if( v == \"yes\"):\n",
    "    view()\n",
    "else:\n",
    "    print(\"Okie buibui\")\n",
    "\n",
    "\n",
    "    "
   ]
  },
  {
   "cell_type": "code",
   "execution_count": null,
   "id": "36ecb811-44a4-4cfa-ba3a-604cf3f28e4f",
   "metadata": {},
   "outputs": [],
   "source": []
  },
  {
   "cell_type": "code",
   "execution_count": null,
   "id": "efacb709-8d34-4516-82fe-34b4febb8555",
   "metadata": {},
   "outputs": [],
   "source": []
  }
 ],
 "metadata": {
  "kernelspec": {
   "display_name": "Python 3 (ipykernel)",
   "language": "python",
   "name": "python3"
  },
  "language_info": {
   "codemirror_mode": {
    "name": "ipython",
    "version": 3
   },
   "file_extension": ".py",
   "mimetype": "text/x-python",
   "name": "python",
   "nbconvert_exporter": "python",
   "pygments_lexer": "ipython3",
   "version": "3.11.9"
  }
 },
 "nbformat": 4,
 "nbformat_minor": 5
}
