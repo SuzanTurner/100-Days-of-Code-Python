{
 "cells": [
  {
   "cell_type": "code",
   "execution_count": 50,
   "id": "62f15ed1-60c3-4499-8c09-ee6a51b3cf29",
   "metadata": {},
   "outputs": [],
   "source": [
    "MENU = {\n",
    "    \"espresso\": {\n",
    "        \"ingredients\": {\n",
    "            \"water\": 50,\n",
    "            \"coffee\": 18,\n",
    "        },\n",
    "        \"cost\": 1.5,\n",
    "    },\n",
    "    \"latte\": {\n",
    "        \"ingredients\": {\n",
    "            \"water\": 200,\n",
    "            \"milk\": 150,\n",
    "            \"coffee\": 24,\n",
    "        },\n",
    "        \"cost\": 2.5,\n",
    "    },\n",
    "    \"coffee\": {\n",
    "        \"ingredients\": {\n",
    "            \"water\": 250,\n",
    "            \"coffee\": 24,\n",
    "        },\n",
    "        \"cost\": 3.0,\n",
    "    }\n",
    "}\n",
    "water = 500\n",
    "milk = 500\n",
    "coffe = 100"
   ]
  },
  {
   "cell_type": "code",
   "execution_count": 61,
   "id": "55cad2b0-1673-4962-9a51-6a9e1594e9f2",
   "metadata": {},
   "outputs": [],
   "source": [
    "import time\n",
    "from IPython.display import clear_output"
   ]
  },
  {
   "cell_type": "code",
   "execution_count": 60,
   "id": "890869af-0a27-49ae-b38d-ab0b8d3a4ecd",
   "metadata": {},
   "outputs": [
    {
     "name": "stdout",
     "output_type": "stream",
     "text": [
      "Coffee Machine\n"
     ]
    },
    {
     "name": "stdin",
     "output_type": "stream",
     "text": [
      "Do you want latte/espresso/coffee? \n",
      "Type \"menu\" for contents, \"refill\" to refill and \"off\" to end menu\n"
     ]
    },
    {
     "name": "stdout",
     "output_type": "stream",
     "text": [
      "Menu\n",
      "\n",
      "Espresso\n",
      " {'ingredients': {'water': 50, 'coffee': 18}, 'cost': 1.5}\n",
      "latte\n",
      " {'ingredients': {'water': 200, 'milk': 150, 'coffee': 24}, 'cost': 2.5}\n",
      "Coffee\n",
      " {'ingredients': {'water': 250, 'coffee': 24}, 'cost': 3.0}\n"
     ]
    },
    {
     "name": "stdin",
     "output_type": "stream",
     "text": [
      "Do you want latte/espresso/coffee? \n",
      "Type \"menu\" for contents, \"refill\" to refill and \"off\" to end latte\n"
     ]
    },
    {
     "name": "stdout",
     "output_type": "stream",
     "text": [
      "Please insert coins\n"
     ]
    },
    {
     "name": "stdin",
     "output_type": "stream",
     "text": [
      "Enter number of quarters 56\n",
      "Enter number of dimes 56\n",
      "Enter number of cents 56\n"
     ]
    },
    {
     "name": "stdout",
     "output_type": "stream",
     "text": [
      "Your total is: 20.16\n",
      "Here's your latte ☕ and the cash at checkout: 18.66\n",
      "\n"
     ]
    },
    {
     "name": "stdin",
     "output_type": "stream",
     "text": [
      "Do you want latte/espresso/coffee? \n",
      "Type \"menu\" for contents, \"refill\" to refill and \"off\" to end coffee\n"
     ]
    },
    {
     "name": "stdout",
     "output_type": "stream",
     "text": [
      "Please insert coins\n"
     ]
    },
    {
     "name": "stdin",
     "output_type": "stream",
     "text": [
      "Enter number of quarters 78\n",
      "Enter number of dimes 78\n",
      "Enter number of cents 78\n"
     ]
    },
    {
     "name": "stdout",
     "output_type": "stream",
     "text": [
      "Your total is: 28.080000000000002\n",
      "Here's your coffee☕ and the cash at checkout: 26.580000000000002\n",
      "\n"
     ]
    },
    {
     "name": "stdin",
     "output_type": "stream",
     "text": [
      "Do you want latte/espresso/coffee? \n",
      "Type \"menu\" for contents, \"refill\" to refill and \"off\" to end latte\n"
     ]
    },
    {
     "name": "stdout",
     "output_type": "stream",
     "text": [
      "Insufficient ingradients\n"
     ]
    },
    {
     "name": "stdin",
     "output_type": "stream",
     "text": [
      "Do you want latte/espresso/coffee? \n",
      "Type \"menu\" for contents, \"refill\" to refill and \"off\" to end refill\n"
     ]
    },
    {
     "name": "stdout",
     "output_type": "stream",
     "text": [
      "Refilled\n",
      "\n"
     ]
    },
    {
     "name": "stdin",
     "output_type": "stream",
     "text": [
      "Do you want latte/espresso/coffee? \n",
      "Type \"menu\" for contents, \"refill\" to refill and \"off\" to end latte\n"
     ]
    },
    {
     "name": "stdout",
     "output_type": "stream",
     "text": [
      "Please insert coins\n"
     ]
    },
    {
     "name": "stdin",
     "output_type": "stream",
     "text": [
      "Enter number of quarters 56\n",
      "Enter number of dimes 56\n",
      "Enter number of cents 56\n"
     ]
    },
    {
     "name": "stdout",
     "output_type": "stream",
     "text": [
      "Your total is: 20.16\n",
      "Here's your latte ☕ and the cash at checkout: 18.66\n",
      "\n"
     ]
    },
    {
     "name": "stdin",
     "output_type": "stream",
     "text": [
      "Do you want latte/espresso/coffee? \n",
      "Type \"menu\" for contents, \"refill\" to refill and \"off\" to end off\n"
     ]
    },
    {
     "name": "stdout",
     "output_type": "stream",
     "text": [
      "Machine Closed\n"
     ]
    }
   ],
   "source": [
    "print(\"Coffee Machine\")\n",
    "\n",
    "while True:\n",
    "    ch = input('Do you want latte/espresso/coffee? \\nType \"menu\" for contents, \"refill\" to refill and \"off\" to end')\n",
    "    if (ch == \"latte\"):\n",
    "        latte()\n",
    "    elif (ch == \"espresso\"):\n",
    "        espresso()\n",
    "    elif (ch == \"menu\"):\n",
    "        report()\n",
    "    elif (ch == \"coffee\"):\n",
    "        coffee()\n",
    "    elif (ch == \"refill\"):\n",
    "        refill()\n",
    "    else:\n",
    "        print(\"Machine Closed\")\n",
    "        break\n",
    "        "
   ]
  },
  {
   "cell_type": "code",
   "execution_count": 57,
   "id": "22e1c608-bf43-46cd-b68f-f275534b9a73",
   "metadata": {},
   "outputs": [],
   "source": [
    "\n",
    "def latte():\n",
    "    global water\n",
    "    global milk\n",
    "    global coffe\n",
    "    if (water > 200 and milk > 150 and coffe > 24):\n",
    "        print(\"Please insert coins\")\n",
    "        q = int(input(\"Enter number of quarters\"))\n",
    "        d = int(input(\"Enter number of dimes\"))\n",
    "        c = int(input(\"Enter number of cents\"))\n",
    "        t = (q/4) + (d/10) + (c/100)\n",
    "        print(f\"Your total is: {t}\")\n",
    "        if (t - 2.5 > 0):\n",
    "            print(f\"Here's your latte ☕ and the cash at checkout: {t-1.5}\\n\")\n",
    "            water -= 200\n",
    "            milk -= 150\n",
    "            coffe -= 24\n",
    "        else:\n",
    "            print(\"Insufficent amount\\n\")\n",
    "    else:\n",
    "        print(\"Insufficient ingradients\\n\")\n",
    "\n",
    "    "
   ]
  },
  {
   "cell_type": "code",
   "execution_count": 58,
   "id": "a54ef86b-9910-40d9-a50c-1895606f9a10",
   "metadata": {},
   "outputs": [],
   "source": [
    "def coffee():\n",
    "    global water\n",
    "    global milk\n",
    "    global coffe\n",
    "    if (water > 200 and coffe > 24):\n",
    "        print(\"Please insert coins\")\n",
    "        q = int(input(\"Enter number of quarters\"))\n",
    "        d = int(input(\"Enter number of dimes\"))\n",
    "        c = int(input(\"Enter number of cents\"))\n",
    "        t = (q/4) + (d/10) + (c/100)\n",
    "        print(f\"Your total is: {t}\")\n",
    "        if (t - 2 > 0):\n",
    "            print(f\"Here's your coffee☕ and the cash at checkout: {t-1.5}\\n\")\n",
    "            water -= 200\n",
    "            coffe -= 24\n",
    "        else:\n",
    "            print(\"Insufficent amount\\n\")\n",
    "    else:\n",
    "        print(\"Insufficient ingradients\\n\")\n"
   ]
  },
  {
   "cell_type": "code",
   "execution_count": 59,
   "id": "ab171b9a-7633-429d-88f0-4b5a4be86850",
   "metadata": {},
   "outputs": [],
   "source": [
    "def espresso():\n",
    "    global water\n",
    "    global milk\n",
    "    global coffe\n",
    "    if (water > 50 and coffe > 18):\n",
    "        print(\"Please insert coins\")\n",
    "        q = int(input(\"Enter number of quarters\"))\n",
    "        d = int(input(\"Enter number of dimes\"))\n",
    "        c = int(input(\"Enter number of cents\"))\n",
    "        t = (q/4) + (d/10) + (c/100)\n",
    "        print(f\"Your total is: {t}\")\n",
    "        if (t - 1.5 > 0):\n",
    "            print(f\"Here's your coffee☕ and the cash at checkout: {t-1.5}\\n\")\n",
    "            water -= 50\n",
    "            coffe -= 18\n",
    "        else:\n",
    "            print(\"Insufficent amount\\n\")\n",
    "    else:\n",
    "        print(\"Insufficient ingradients\\n\")\n",
    "\n"
   ]
  },
  {
   "cell_type": "code",
   "execution_count": 54,
   "id": "35ea417d-854e-410a-b611-91f1fd382e3a",
   "metadata": {},
   "outputs": [],
   "source": [
    "def report():\n",
    "    print(\"Menu\\n\")\n",
    "    print(\"Espresso\\n\",MENU[\"espresso\"])\n",
    "    print(\"latte\\n\", MENU[\"latte\"])\n",
    "    print(\"Coffee\\n\", MENU[\"coffee\"])"
   ]
  },
  {
   "cell_type": "code",
   "execution_count": 56,
   "id": "26a26a07-2acc-4114-bed3-7aa41c5cc402",
   "metadata": {},
   "outputs": [],
   "source": [
    "def refill():\n",
    "    global water\n",
    "    global milk\n",
    "    global coffe\n",
    "    water = 500\n",
    "    milk = 500\n",
    "    coffe = 100\n",
    "    print(\"Refilled\\n\")"
   ]
  },
  {
   "cell_type": "code",
   "execution_count": null,
   "id": "2ae80745-ed00-496d-9543-6ced297f6867",
   "metadata": {},
   "outputs": [],
   "source": []
  },
  {
   "cell_type": "code",
   "execution_count": null,
   "id": "5de8900c-4c6d-425c-8440-eaaccfdee8ff",
   "metadata": {},
   "outputs": [],
   "source": []
  }
 ],
 "metadata": {
  "kernelspec": {
   "display_name": "Python 3 (ipykernel)",
   "language": "python",
   "name": "python3"
  },
  "language_info": {
   "codemirror_mode": {
    "name": "ipython",
    "version": 3
   },
   "file_extension": ".py",
   "mimetype": "text/x-python",
   "name": "python",
   "nbconvert_exporter": "python",
   "pygments_lexer": "ipython3",
   "version": "3.11.9"
  }
 },
 "nbformat": 4,
 "nbformat_minor": 5
}
