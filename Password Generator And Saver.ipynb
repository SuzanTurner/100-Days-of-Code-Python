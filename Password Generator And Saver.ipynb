{
 "cells": [
  {
   "cell_type": "code",
   "execution_count": 27,
   "id": "9356128f-a620-4d0b-a0cf-2d403552b4d2",
   "metadata": {},
   "outputs": [
    {
     "name": "stdin",
     "output_type": "stream",
     "text": [
      "How long do you want your password to be?  5\n",
      "Do you want your password to contain special characters? (yes/no)  no\n"
     ]
    },
    {
     "name": "stdout",
     "output_type": "stream",
     "text": [
      "Okie, no special characters\n"
     ]
    },
    {
     "name": "stdin",
     "output_type": "stream",
     "text": [
      "Do you want your password to have numbers? (yes/no)  no\n"
     ]
    },
    {
     "name": "stdout",
     "output_type": "stream",
     "text": [
      "Okie, no numbers\n",
      "\n",
      "Generating your password...\n",
      "Password:  dWxHQ\n"
     ]
    }
   ],
   "source": [
    "import random\n",
    "\n",
    "numbers = ['0', '1', '2', '3', '4', '5', '6', '7', '8', '9']\n",
    "spl = ['!', '@', '#', '$', '%', '^', '&', '*', '(', ')', '-', '_']\n",
    "caps = []\n",
    "smalls = []\n",
    "\n",
    "# Populate caps and smalls with correct ranges\n",
    "for i in range(65, 91):\n",
    "    caps.append(chr(i))\n",
    "for i in range(97, 123):\n",
    "    smalls.append(chr(i))\n",
    "\n",
    "pwd = []\n",
    "\n",
    "l = int(input(\"How long do you want your password to be? \"))\n",
    "s = input(\"Do you want your password to contain special characters? (yes/no) \").lower()\n",
    "if s == \"yes\":\n",
    "    ns = int(input(\"How many special characters do you want? \"))\n",
    "    for i in range(ns):\n",
    "        pwd.append(random.choice(spl))\n",
    "    l -= ns\n",
    "else:\n",
    "    print(\"Okie, no special characters\")\n",
    "\n",
    "n = input(\"Do you want your password to have numbers? (yes/no) \").lower()\n",
    "if n == \"yes\":\n",
    "    nn = int(input(\"How many numbers do you want in your password? \"))\n",
    "    for i in range(nn):\n",
    "        pwd.append(random.choice(numbers))\n",
    "    l -= nn\n",
    "else:\n",
    "    print(\"Okie, no numbers\")\n",
    "\n",
    "for i in range(l):\n",
    "    pwd.append(random.choice(caps + smalls))\n",
    "\n",
    "print(\"\\nGenerating your password...\")\n",
    "random.shuffle(pwd)\n",
    "password = ''.join(pwd)\n",
    "print(\"Password:\", password)\n",
    "\n",
    "def view():\n",
    "    with open (r\"D:\\Yadh Documents\\100 Days of Code Python\\SavedPasswords.txt\", \"r\") as file:\n",
    "        for line in file.readlines():\n",
    "            print(line)\n",
    "\n",
    "def store():\n",
    "    name = input(\"Enter your name\")\n",
    "    with open(r'D:\\Yadh Documents\\100 Days of Code Python\\SavedPasswords.txt', 'a') as f:\n",
    "       f.write(\"Name: \"+name + \"     \" + \"Password: \"+ password + \"\\n\")\n",
    "\n",
    "store()\n",
    "v = input(\"D\n",
    "\n",
    "\n",
    "    "
   ]
  },
  {
   "cell_type": "code",
   "execution_count": 12,
   "id": "c8f885b5-fe2b-4731-8b52-7d97d3402017",
   "metadata": {},
   "outputs": [
    {
     "name": "stdout",
     "output_type": "stream",
     "text": [
      "122\n",
      "c\n"
     ]
    }
   ],
   "source": [
    "print(ord('z'))\n",
    "f = 99\n",
    "print(chr(f))"
   ]
  },
  {
   "cell_type": "code",
   "execution_count": 26,
   "id": "61840852-1273-466b-84bd-70197c807e4b",
   "metadata": {},
   "outputs": [
    {
     "ename": "TypeError",
     "evalue": "sequence item 0: expected str instance, int found",
     "output_type": "error",
     "traceback": [
      "\u001b[1;31m---------------------------------------------------------------------------\u001b[0m",
      "\u001b[1;31mTypeError\u001b[0m                                 Traceback (most recent call last)",
      "Cell \u001b[1;32mIn[26], line 2\u001b[0m\n\u001b[0;32m      1\u001b[0m f \u001b[38;5;241m=\u001b[39m [\u001b[38;5;241m1\u001b[39m,\u001b[38;5;241m2\u001b[39m,\u001b[38;5;241m3\u001b[39m,\u001b[38;5;241m4\u001b[39m]\n\u001b[1;32m----> 2\u001b[0m \u001b[38;5;28mprint\u001b[39m(\u001b[38;5;124;43m'\u001b[39;49m\u001b[38;5;124;43m'\u001b[39;49m\u001b[38;5;241;43m.\u001b[39;49m\u001b[43mjoin\u001b[49m\u001b[43m(\u001b[49m\u001b[43mf\u001b[49m\u001b[43m)\u001b[49m)\n",
      "\u001b[1;31mTypeError\u001b[0m: sequence item 0: expected str instance, int found"
     ]
    }
   ],
   "source": [
    "f = [1,2,3,4]\n",
    "print(''.join(f))"
   ]
  },
  {
   "cell_type": "raw",
   "id": "0ef0521e-e674-47ef-ac0b-dd2dbbae7538",
   "metadata": {},
   "source": [
    "print(ord(z))\n"
   ]
  },
  {
   "cell_type": "code",
   "execution_count": 9,
   "id": "36ecb811-44a4-4cfa-ba3a-604cf3f28e4f",
   "metadata": {},
   "outputs": [
    {
     "name": "stdout",
     "output_type": "stream",
     "text": [
      "0\n",
      "1\n",
      "2\n",
      "3\n",
      "4\n",
      "5\n",
      "6\n",
      "7\n",
      "8\n",
      "9\n"
     ]
    }
   ],
   "source": [
    "for i in range (0,10):\n",
    "    print(i)"
   ]
  },
  {
   "cell_type": "code",
   "execution_count": null,
   "id": "efacb709-8d34-4516-82fe-34b4febb8555",
   "metadata": {},
   "outputs": [],
   "source": []
  }
 ],
 "metadata": {
  "kernelspec": {
   "display_name": "Python 3 (ipykernel)",
   "language": "python",
   "name": "python3"
  },
  "language_info": {
   "codemirror_mode": {
    "name": "ipython",
    "version": 3
   },
   "file_extension": ".py",
   "mimetype": "text/x-python",
   "name": "python",
   "nbconvert_exporter": "python",
   "pygments_lexer": "ipython3",
   "version": "3.11.9"
  }
 },
 "nbformat": 4,
 "nbformat_minor": 5
}
