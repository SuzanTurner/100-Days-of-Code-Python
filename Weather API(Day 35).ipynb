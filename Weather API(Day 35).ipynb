{
 "cells": [
  {
   "cell_type": "code",
   "execution_count": 3,
   "id": "52e1d705-014c-4207-ad04-fc70c49f3a03",
   "metadata": {},
   "outputs": [],
   "source": [
    "import requests\n",
    "import json"
   ]
  },
  {
   "cell_type": "code",
   "execution_count": 15,
   "id": "9878940d-f2ea-4645-ae3c-e35b8e943ba2",
   "metadata": {},
   "outputs": [],
   "source": [
    "import tkinter\n",
    "from tkinter import messagebox\n",
    "import datetime\n"
   ]
  },
  {
   "cell_type": "code",
   "execution_count": null,
   "id": "b3a594ee-7280-4582-9d6d-a8e0c03b88ab",
   "metadata": {},
   "outputs": [],
   "source": [
    "window = tkinter.Tk()\n",
    "window.minsize(width = 250, height = 250)\n",
    "window.title(\"US Cities Weather\")\n",
    "window.config(bg = \"#ADD8E6\", padx = 10, pady = 10)\n",
    "\n",
    "city_label = tkinter.Label()\n",
    "city_label.config(text = \"City:\", bg = \"white\", font = (\"Georgia\", 12, \"normal\"), highlightthickness = 1, highlightbackground = \"black\")\n",
    "city_label.grid(column = 1, row = 1)\n",
    "\n",
    "city_text = tkinter.Text()\n",
    "city_text.focus()\n",
    "city_text.config(width = 20, height = 1, pady = 5)\n",
    "city_text.grid(row = 1, column = 2, padx = 5)\n",
    "\n",
    "def get_weather():\n",
    "    city = city_text.get(\"1.0\", tkinter.END)\n",
    "    c = city.strip()\n",
    "    parameters = {\"q\":f\"{c.title()}\", \"appid\": \"da21cb59f268b9c3b67c070c0c219996\"}\n",
    "    resp = requests.get(url = \"https://api.openweathermap.org/data/2.5/weather\", params = parameters )\n",
    "    try:\n",
    "        resp.raise_for_status()\n",
    "    except requests.exceptions.HTTPError as e:\n",
    "        messagebox.showinfo(title = \"Alert!\", message = \"Enter a city in the US\")\n",
    "        city_text.delete(\"1.0\", tkinter.END)\n",
    "        \n",
    "    status_code = resp.status_code\n",
    "    f = resp.json()\n",
    "    if status_code == 200:\n",
    "        latitude = f[\"coord\"][\"lat\"]\n",
    "        longitude = f[\"coord\"][\"lon\"]\n",
    "        weather = f[\"weather\"][0][\"description\"]\n",
    "        country = f[\"sys\"][\"country\"]\n",
    "        sunrise = f[\"sys\"][\"sunrise\"]\n",
    "        sunset = f[\"sys\"][\"sunset\"]\n",
    "        timezone = f[\"timezone\"]\n",
    "        temp = f[\"main\"][\"temp\"]\n",
    "        temp_min = f[\"main\"][\"temp_min\"]\n",
    "        temp_max = f[\"main\"][\"temp_max\"]\n",
    "        humidity = f[\"main\"][\"humidity\"]\n",
    "        \n",
    "        report_label = tkinter.Label()\n",
    "        report_label.config(text = f\"Country: {country}\\nLatitude: {latitude}\\nLongitude: {longitude}\\nTemperature: {temp}\\nMinimum: {temp_min}\\nMaximum: {temp_max}\\nHumidity: {humidity}\\nWeather: {weather}\\nTimezone: {timezone//3600} Hours\", bg = \"white\", font = (\"Georgia\", 8, \"normal\"), highlightthickness = 1, highlightbackground = \"black\")\n",
    "        report_label.grid(column = 1, row = 3, columnspan = 2)\n",
    "        \n",
    "weather_button = tkinter.Button(text = \"Get Report\", command = get_weather)\n",
    "weather_button.config(bg = \"white\", font = (\"Georgia\" , 9, \"normal\"))\n",
    "weather_button.grid(column = 1, row = 2, columnspan = 2, pady = 10)\n",
    "\n",
    "\n",
    "window.mainloop()"
   ]
  },
  {
   "cell_type": "code",
   "execution_count": 42,
   "id": "c9cace0d-a48a-4f59-a771-186cc9cca7fc",
   "metadata": {},
   "outputs": [
    {
     "ename": "NameError",
     "evalue": "name 'latitude' is not defined",
     "output_type": "error",
     "traceback": [
      "\u001b[1;31m---------------------------------------------------------------------------\u001b[0m",
      "\u001b[1;31mNameError\u001b[0m                                 Traceback (most recent call last)",
      "Cell \u001b[1;32mIn[42], line 1\u001b[0m\n\u001b[1;32m----> 1\u001b[0m \u001b[38;5;28mprint\u001b[39m(\u001b[43mlatitude\u001b[49m, longitude,weather,country,sunrise,sunset,timezone,temp, temp_min,temp_max, humidity)\n",
      "\u001b[1;31mNameError\u001b[0m: name 'latitude' is not defined"
     ]
    }
   ],
   "source": [
    "print(latitude, longitude,weather,country,sunrise,sunset,timezone,temp, temp_min,temp_max, humidity)"
   ]
  },
  {
   "cell_type": "code",
   "execution_count": null,
   "id": "18517e2b-2869-4164-a47b-1dc88d149344",
   "metadata": {},
   "outputs": [],
   "source": []
  },
  {
   "cell_type": "code",
   "execution_count": null,
   "id": "1e08d4da-c8c8-4bb1-9719-eddc016565a9",
   "metadata": {},
   "outputs": [],
   "source": []
  }
 ],
 "metadata": {
  "kernelspec": {
   "display_name": "Python 3 (ipykernel)",
   "language": "python",
   "name": "python3"
  },
  "language_info": {
   "codemirror_mode": {
    "name": "ipython",
    "version": 3
   },
   "file_extension": ".py",
   "mimetype": "text/x-python",
   "name": "python",
   "nbconvert_exporter": "python",
   "pygments_lexer": "ipython3",
   "version": "3.11.9"
  }
 },
 "nbformat": 4,
 "nbformat_minor": 5
}
