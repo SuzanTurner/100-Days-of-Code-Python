{
 "cells": [
  {
   "cell_type": "code",
   "execution_count": 1,
   "id": "a1cd75cf-04e5-4d4e-a4f5-8d79d2b33439",
   "metadata": {},
   "outputs": [],
   "source": [
    "import requests\n",
    "from bs4 import BeautifulSoup"
   ]
  },
  {
   "cell_type": "code",
   "execution_count": 2,
   "id": "cea71588-c799-49fc-834e-29111c95bd8e",
   "metadata": {},
   "outputs": [
    {
     "name": "stdout",
     "output_type": "stream",
     "text": [
      "200\n"
     ]
    }
   ],
   "source": [
    "response = requests.get(url = \"https://www.empireonline.com/movies/features/best-movies-2/\")\n",
    "response.raise_for_status()\n",
    "print(response.status_code)"
   ]
  },
  {
   "cell_type": "code",
   "execution_count": 45,
   "id": "cc59de4a-2eb8-4cdb-ba88-1c60e73c52a0",
   "metadata": {},
   "outputs": [
    {
     "name": "stdout",
     "output_type": "stream",
     "text": [
      "1) The Lord Of The Rings: The Fellowship Of The Ring (2001)\n"
     ]
    }
   ],
   "source": [
    "m = response.text\n",
    "soup = BeautifulSoup(m, \"html.parser\")\n",
    "\n",
    "tag = soup.find_all(name = \"h2\")\n",
    "movies = []\n",
    "for t in tag:\n",
    "    if t.find(name = \"strong\"):\n",
    "        m = t.get_text()\n",
    "        movies.append(m)\n",
    "movies.reverse()\n",
    "#for m in movies:\n",
    "    #print(m)\n",
    "n = int(input(\"Enter a number between 1-100\"))\n",
    "if n > 0 and n < 101:\n",
    "    print(f\"You must watch: {movies[n-1"
   ]
  },
  {
   "cell_type": "code",
   "execution_count": null,
   "id": "6e76faed-2864-4529-b640-da07cae0fc5b",
   "metadata": {},
   "outputs": [],
   "source": []
  }
 ],
 "metadata": {
  "kernelspec": {
   "display_name": "Python 3 (ipykernel)",
   "language": "python",
   "name": "python3"
  },
  "language_info": {
   "codemirror_mode": {
    "name": "ipython",
    "version": 3
   },
   "file_extension": ".py",
   "mimetype": "text/x-python",
   "name": "python",
   "nbconvert_exporter": "python",
   "pygments_lexer": "ipython3",
   "version": "3.12.6"
  }
 },
 "nbformat": 4,
 "nbformat_minor": 5
}
